{
 "cells": [
  {
   "cell_type": "markdown",
   "metadata": {},
   "source": [
    "## \"A Bossy Sort of Voice\"\n",
    "#### A study of sexism in the Harry Potter series using Natural Language Processing"
   ]
  },
  {
   "cell_type": "markdown",
   "metadata": {},
   "source": [
    "My eldest son is almost 6 and loves the Harry Potter series of books.  But, as I read them for the first time with him as a bedtime story, I noticed something hadn't expected.  \n",
    "\n",
    "The sexism.\n",
    "\n",
    "The sexism critique of the Harry Potter novels is not a new one - many people have (written)[https://www.bustle.com/articles/136244-the-5-least-feminist-moments-in-harry-potter] excellent articles about Ron's treatment of Hermoine, the portrayl of other female characters as cold or incompetent or promiscuous.  But there were two types of analyses I didn't see: a quantitative or linguistics based one, or something that looked at how the author herself portrays female characters in a biased light in how they speak\n",
    "\n",
    "My hope in doing this is that people will use some of these tools to look more critically at the language of literature we love and the popular press for signs of gender, racial, and other bias."
   ]
  },
  {
   "cell_type": "markdown",
   "metadata": {},
   "source": [
    "#### Getting started: setting up hypotheses and requirements\n",
    "\n",
    "In this project, I will test three hypotheses:\n",
    "\n",
    "1. Female characters are referred to by the narrator with sexist words throughout the series by the narrator, while males are not described with that same language.\n",
    "\n",
    "2. The narrator will use more sexist words when describing the female characters than other characters will use when talking about them.\n",
    "\n",
    "3. Sexism as defined above will decline in both dialog and narration as the series progresses.\n",
    "\n",
    "\n",
    "Taking this approach requires tools to do the following, which I'll tackle in this workbook:\n",
    "\n",
    "1. Process text from all 7 'Harry Potter' books.\n",
    "\n",
    "2. Seperate dialog from narration.\n",
    "\n",
    "3. Label dialog and narration.\n",
    "\n",
    "4. Distinguish parts of speech, like nouns, verbs, and adjectives.\n",
    "000\n",
    "\n",
    "2. Look at the text at the word and sentence level.\n",
    "\n",
    "3. Distinguish parts of speech, like nouns, verbs, and adjectives.\n",
    "\n",
    "4. \n",
    "\n",
    "5. Be able to tell female characters from male characters\n",
    "\n",
    "6. Have examples of sexist words and/or phrases to create a classifier. \n",
    "\n",
    "7. Reduce sexist words in the text to their root forms (e.g. 'shriller' should be equivalent to 'shrill').\n",
    "\n",
    "8. Summarize the data to test our hypotheses.\n"
   ]
  },
  {
   "cell_type": "markdown",
   "metadata": {},
   "source": [
    "#### Step 1: Process text from all 7 'Harry Potter' books.\n",
    "\n",
    "What I mean by \"process\", is to get the text from the series into a format that can be read into a computer program for analysis.  For this project, I'll be using the [Python programming language](https://www.python.org/), and a few libraries (basically groupings of code that completes specialized common processes), most notably the [Natural Language Processing Toolkit (NLTK)](http://www.nltk.org/).\n",
    "\n",
    "To do this, I am going to read 7 files in the .txt format, each containing text of one of the books, using Python's built-in `open` function and `read` method.  You can get the files for these and other books from [this site](https://archive.org/stream/pdfy-ZhGUmtnn6LEtA7jL/Harry%20Potter%20and%20the%20Philosopher%27s%20Stone%2C%20by%20J.K.%20Rowling_djvu.txt) -- note that you can use existing txt format files, or copy text, paste it in Notepad and save as a .txt file.\n",
    "\n",
    "In this code, the files are named 'hp' then the book number - i.e. `hp1.txt` - and stored in a folder called `corpus`. To run the code as it is, you'll need to recreate this schema or alter the code to fit the path you create.\n",
    "\n",
    "Let's write a function to read in our text.  "
   ]
  },
  {
   "cell_type": "code",
   "execution_count": 1,
   "metadata": {},
   "outputs": [
    {
     "name": "stdout",
     "output_type": "stream",
     "text": [
      "For a brief moment he allowed himself the impossible hope that nobody would answer him. However, a voice responded at once, a crisp, decisive voice that sounded as though it were reading a prepared statement. It was coming -- as the Prime Minister had known at the first cough -- from the froglike little man wearing a long silver wig who was depicted in a small, dirty oil painting in the far corner of the room.\n",
      "\"To the Prime Minister of Muggles. Urgent we meet. Kindly respond immediately. Sincerely, Fudge.\"\n",
      "The man in the painting looked inquiringly at the Prime Minister.\n",
      "\"Er,\" said the Prime Minister, \"listen... It's not a very good time for me... I'm waiting for a telephone call, you see... from the President of--\"\n",
      "\"That can be rearranged,\" said the portrait at once. The Prime Minister's heart sank. He had been afraid of that.\n",
      "\"But I really was rather hoping to speak--\"\n",
      "\"We shall arrange for the President to forget to call. He will telephone tomorrow night instead,\" said the little man.\n"
     ]
    }
   ],
   "source": [
    "def read_file(num):\n",
    "    text = ''\n",
    "    with open('corpus/hp'+ str(num) + '.txt', 'rt') as file_in:\n",
    "        for line in file_in:\n",
    "            text = text + line\n",
    "    return text\n",
    "\n",
    "book_content = read_file(6)\n",
    "print(book_content[3000:4002])"
   ]
  },
  {
   "cell_type": "markdown",
   "metadata": {},
   "source": [
    "Running this would return a single long string of text, and it's now usable in our program.  Notice that we pass in the number of the book we want to open with the `num` variable."
   ]
  },
  {
   "cell_type": "markdown",
   "metadata": {},
   "source": [
    "#### Step 2: Seperate dialog from narrative\n",
    "In the text above, the opening and closing quotes look the same: `\"`.  However, when we tokenize the text, NLTK makes opening and closing quotes look different, so we can see where dialog begins and ends.  Let's give it a try!"
   ]
  },
  {
   "cell_type": "code",
   "execution_count": 2,
   "metadata": {},
   "outputs": [
    {
     "name": "stdout",
     "output_type": "stream",
     "text": [
      "['For', 'a', 'brief', 'moment', 'he', 'allowed', 'himself', 'the', 'impossible', 'hope', 'that', 'nobody', 'would', 'answer', 'him', '.', 'However', ',', 'a', 'voice', 'responded', 'at', 'once', ',', 'a', 'crisp', ',', 'decisive', 'voice', 'that', 'sounded', 'as', 'though', 'it', 'were', 'reading', 'a', 'prepared', 'statement', '.', 'It', 'was', 'coming', '--', 'as', 'the', 'Prime', 'Minister', 'had', 'known', 'at', 'the', 'first', 'cough', '--', 'from', 'the', 'froglike', 'little', 'man', 'wearing', 'a', 'long', 'silver', 'wig', 'who', 'was', 'depicted', 'in', 'a', 'small', ',', 'dirty', 'oil', 'painting', 'in', 'the', 'far', 'corner', 'of', 'the', 'room', '.', '``', 'To', 'the', 'Prime', 'Minister', 'of', 'Muggles', '.', 'Urgent', 'we', 'meet', '.', 'Kindly', 'respond', 'immediately', '.', 'Sincerely', ',', 'Fudge', '.', \"''\", 'The', 'man', 'in', 'the', 'painting', 'looked', 'inquiringly', 'at', 'the', 'Prime', 'Minister', '.', '``', 'Er', ',', \"''\", 'said', 'the', 'Prime', 'Minister', ',', '``', 'listen', '...', 'It', \"'s\", 'not', 'a', 'very', 'good', 'time', 'for', 'me', '...', 'I', \"'m\", 'waiting', 'for', 'a', 'telephone', 'call', ',', 'you', 'see', '...', 'from', 'the', 'President', 'of', '--', \"''\", \"''\", 'That', 'can', 'be', 'rearranged', ',', \"''\", 'said', 'the', 'portrait', 'at', 'once', '.', 'The', 'Prime', 'Minister', \"'s\", 'heart', 'sank', '.', 'He', 'had', 'been', 'afraid', 'of', 'that', '.', '``', 'But', 'I', 'really', 'was', 'rather', 'hoping', 'to', 'speak', '--', \"''\", \"''\", 'We', 'shall', 'arrange', 'for', 'the', 'President', 'to', 'forget', 'to', 'call', '.', 'He', 'will', 'telephone', 'tomorrow', 'night', 'instead', ',', \"''\", 'said', 'the', 'little', 'man', '.']\n"
     ]
    }
   ],
   "source": [
    "from nltk import word_tokenize\n",
    "\n",
    "def tokenize_text(book_content):\n",
    "    tokenized = word_tokenize(book_content)\n",
    "    return tokenized\n",
    "\n",
    "tokenized = tokenize_text(book_content)\n",
    "print (tokenized[604:822])"
   ]
  },
  {
   "cell_type": "markdown",
   "metadata": {},
   "source": [
    "As you can see in the text above, our opening and closing quotes look like this: `'``' and \"''\"`.  This is a helpful tool in judging where dialog begins and ends across sentences.  Next, we will set up some rules around this and label parts of text."
   ]
  },
  {
   "cell_type": "markdown",
   "metadata": {},
   "source": [
    "#### Step 3: Label dialog and narration\n",
    "In this step, we will label these two types of text while keeping them in order in case we need context.  To do this, we'll keep the list format to preserve order and create a tuple for each piece of dialogue.  So, for example:\n",
    "\n",
    "`\"''\", 'That', 'can', 'be', 'rearranged', ',', \"''\", 'said', 'the', 'portrait', 'at', 'once', '.'`\n",
    "\n",
    "Would become:\n",
    "\n",
    "`('d', [\"''\", 'That', 'can', 'be', 'rearranged', ',', \"''\",]), ('n', ['said', 'the', 'portrait', 'at', 'once', '.'])`\n",
    "\n",
    "What we'll do to achieve this is:\n",
    "1. Create a new list called `parsed`.\n",
    "1. Loop through the text in `tokenized` variable (printed above).  When we hit an open quote character, stop, grab everything up to that point and make it a list in a tuple where the first value is `n` for \"narration\", and the second value is a list containing all of those words (e.g. `('n', ['For', 'a', 'brief', 'moment', 'he', 'allowed', 'himself', 'the', 'impossible', 'hope', 'that', 'nobody', 'would', 'answer', 'him', '.', 'However', ',', 'a', 'voice', 'responded', 'at', 'once', ',', 'a', 'crisp', ',', 'decisive', 'voice', 'that', 'sounded', 'as', 'though', 'it', 'were', 'reading', 'a', 'prepared', 'statement', '.', 'It', 'was', 'coming', '--', 'as', 'the', 'Prime', 'Minister', 'had', 'known', 'at', 'the', 'first', 'cough', '--', 'from', 'the', 'froglike', 'little', 'man', 'wearing', 'a', 'long', 'silver', 'wig', 'who', 'was', 'depicted', 'in', 'a', 'small', ',', 'dirty', 'oil', 'painting', 'in', 'the', 'far', 'corner', 'of', 'the', 'room', '.',']`.  \n",
    "2. Append this tuple to `text_parsed`.\n",
    "3. Use the point where we found the open quote as a placeholder, then look ahead until we find a close quote.\n",
    "4. Take the whole slice, from open quote to close quote.\n",
    "4. Drop the slice into a tuple where the first value is `d` for \"dialog\" and the second value is a list containing all of the words and the quotes (e.g. `('d', '``', 'To', 'the', 'Prime', 'Minister', 'of', 'Muggles', '.', 'Urgent', 'we', 'meet', '.', 'Kindly', 'respond', 'immediately', '.', 'Sincerely', ',', 'Fudge', '.', \"''\")`)\n",
    "\n",
    "The function to do this will be called `parse_text`. "
   ]
  },
  {
   "cell_type": "code",
   "execution_count": 42,
   "metadata": {},
   "outputs": [],
   "source": [
    "def parse_text(t):\n",
    "    open_q = '``'\n",
    "    close_q = \"''\"\n",
    "    found_c = False # this will be used to break the while loop below\n",
    "    # current will hold words until an open quote is found\n",
    "    current = []\n",
    "    # parsed is the list we'll eventually return, and where the ('n', ['sentence']) or ('d', ['sentence']) tuples\n",
    "    # will be appended\n",
    "    parsed = [] \n",
    "    length = len(t)\n",
    "    i = 0\n",
    "\n",
    "    while i < length:\n",
    "        word = t[i]\n",
    "        \n",
    "        if word != open_q and word != close_q:\n",
    "            current.append(word)\n",
    "\n",
    "        elif word == open_q or word == close_q:\n",
    "            parsed.append(('n', current))\n",
    "            \n",
    "            current = []\n",
    "            current.append(word)\n",
    "            \n",
    "            while found_c == False and i < length-1:\n",
    "                i += 1\n",
    "                if t[i] != close_q:\n",
    "                    current.append(t[i])\n",
    "                else:\n",
    "                    current.append(t[i])\n",
    "                    parsed.append(('d', current))\n",
    "                    current = []\n",
    "                    found_c = True\n",
    "        \n",
    "        found_c = False\n",
    "        i += 1\n",
    "        \n",
    "    return parsed\n",
    "        "
   ]
  },
  {
   "cell_type": "code",
   "execution_count": 43,
   "metadata": {},
   "outputs": [
    {
     "name": "stdout",
     "output_type": "stream",
     "text": [
      "[('n', ['Chapter', '1', ':', 'The', 'Other', 'Minister', 'It', 'was', 'nearing', 'midnight', 'and', 'the', 'Prime', 'Minister', 'was', 'sitting', 'alone', 'in', 'his', 'office', ',', 'reading', 'a', 'long', 'memo', 'that', 'was', 'slipping', 'through', 'his', 'brain', 'without', 'leaving', 'the', 'slightest', 'trace', 'of', 'meaning', 'behind', '.', 'He', 'was', 'waiting', 'for', 'a', 'call', 'from', 'the', 'President', 'of', 'a', 'far', 'distant', 'country', ',', 'and', 'between', 'wondering', 'when', 'the', 'wretched', 'man', 'would', 'telephone', ',', 'and', 'trying', 'to', 'suppress', 'unpleasant', 'memories', 'of', 'what', 'had', 'been', 'a', 'very', 'long', ',', 'tiring', ',', 'and', 'difficult', 'week', ',', 'there', 'was', 'not', 'much', 'space', 'in', 'his', 'head', 'for', 'anything', 'else', '.', 'The', 'more', 'he', 'attempted', 'to', 'focus', 'on', 'the', 'print', 'on', 'the', 'page', 'before', 'him', ',', 'the', 'more', 'clearly', 'the', 'Prime', 'Minister', 'could', 'see', 'the', 'gloating', 'face', 'of', 'one', 'of', 'his', 'political', 'opponents', '.', 'This', 'particular', 'opponent', 'had', 'appeared', 'on', 'the', 'news', 'that', 'very', 'day', ',', 'not', 'only', 'to', 'enumerate', 'all', 'the', 'terrible', 'things', 'that', 'had', 'happened', 'in', 'the', 'last', 'week', '(', 'as', 'though', 'anyone', 'needed', 'reminding', ')', 'but', 'also', 'to', 'explain', 'why', 'each', 'and', 'every', 'one', 'of', 'them', 'was', 'the', 'government', \"'s\", 'fault', '.', 'The', 'Prime', 'Minister', \"'s\", 'pulse', 'quickened', 'at', 'the', 'very', 'thought', 'of', 'these', 'accusations', ',', 'for', 'they', 'were', 'neither', 'fair', 'nor', 'true', '.', 'How', 'on', 'earth', 'was', 'his', 'government', 'supposed', 'to', 'have', 'stopped', 'that', 'bridge', 'collapsing', '?', 'It', 'was', 'outrageous', 'for', 'anybody', 'to', 'suggest', 'that', 'they', 'were', 'not', 'spending', 'enough', 'on', 'bridges', '.', 'The', 'bridge', 'was', 'fewer', 'than', 'ten', 'years', 'old', ',', 'and', 'the', 'best', 'experts', 'were', 'at', 'a', 'loss', 'to', 'explain', 'why', 'it', 'had', 'snapped', 'cleanly', 'in', 'two', ',', 'sending', 'a', 'dozen', 'cars', 'into', 'the', 'watery', 'depths', 'of', 'the', 'river', 'below', '.', 'And', 'how', 'dare', 'anyone', 'suggest', 'that', 'it', 'was', 'lack', 'of', 'policemen', 'that', 'had', 'resulted', 'in', 'those', 'two', 'very', 'nasty', 'and', 'well-publicized', 'murders', '?', 'Or', 'that', 'the', 'government', 'should', 'have', 'somehow', 'foreseen', 'the', 'freak', 'hurricane', 'in', 'the', 'West', 'Country', 'that', 'had', 'caused', 'so', 'much', 'damage', 'to', 'both', 'people', 'and', 'property', '?', 'And', 'was', 'it', 'his', 'fault', 'that', 'one', 'of', 'his', 'Junior', 'Ministers', ',', 'Herbert', 'Chorley', ',', 'had', 'chosen', 'this', 'week', 'to', 'act', 'so', 'peculiarly', 'that', 'he', 'was', 'now', 'going', 'to', 'be', 'spending', 'a', 'lot', 'more', 'time', 'with', 'his', 'family', '?']), ('d', ['``', 'A', 'grim', 'mood', 'has', 'gripped', 'the', 'country', ',', \"''\"]), ('n', ['the', 'opponent', 'had', 'concluded', ',', 'barely', 'concealing', 'his', 'own', 'broad', 'grin', '.', 'And', 'unfortunately', ',', 'this', 'was', 'perfectly', 'true', '.', 'The', 'Prime', 'Minister', 'felt', 'it', 'himself', ';', 'people', 'really', 'did', 'seem', 'more', 'miserable', 'than', 'usual', '.', 'Even', 'the', 'weather', 'was', 'dismal', ';', 'all', 'this', 'chilly', 'mist', 'in', 'the', 'middle', 'of', 'July', '...', 'It', 'was', \"n't\", 'right', ',', 'it', 'was', \"n't\", 'normal', '...', 'He', 'turned', 'over', 'the', 'second', 'page', 'of', 'the', 'memo', ',', 'saw', 'how', 'much', 'longer', 'it', 'went', 'on', ',', 'and', 'gave', 'it', 'up', 'as', 'a', 'bad', 'job', '.', 'Stretching', 'his', 'arms', 'above', 'his', 'head', 'he', 'looked', 'around', 'his', 'office', 'mournfully', '.', 'It', 'was', 'a', 'handsome', 'room', ',', 'with', 'a', 'fine', 'marble', 'fireplace', 'facing', 'the', 'long', 'sash', 'windows', ',', 'firmly', 'closed', 'against', 'the', 'unseasonable', 'chill', '.', 'With', 'a', 'slight', 'shiver', ',', 'the', 'Prime', 'Minister', 'got', 'up', 'and', 'moved', 'over', 'to', 'the', 'window', ',', 'looking', 'out', 'at', 'the', 'thin', 'mist', 'that', 'was', 'pressing', 'itself', 'against', 'the', 'glass', '.', 'It', 'was', 'then', ',', 'as', 'he', 'stood', 'with', 'his', 'back', 'to', 'the', 'room', ',', 'that', 'he', 'heard', 'a', 'soft', 'cough', 'behind', 'him', '.', 'He', 'froze', ',', 'nose', 'to', 'nose', 'with', 'his', 'own', 'scared-looking', 'reflection', 'in', 'the', 'dark', 'glass', '.', 'He', 'knew', 'that', 'cough', '.', 'He', 'had', 'heard', 'it', 'before', '.', 'He', 'turned', 'very', 'slowly', 'to', 'face', 'the', 'empty', 'room', '.']), ('d', ['``', 'Hello', '?', \"''\"]), ('n', ['he', 'said', ',', 'trying', 'to', 'sound', 'braver', 'than', 'he', 'felt', '.', 'For', 'a', 'brief', 'moment', 'he', 'allowed', 'himself', 'the', 'impossible', 'hope', 'that', 'nobody', 'would', 'answer', 'him', '.', 'However', ',', 'a', 'voice', 'responded', 'at', 'once', ',', 'a', 'crisp', ',', 'decisive', 'voice', 'that', 'sounded', 'as', 'though', 'it', 'were', 'reading', 'a', 'prepared', 'statement', '.', 'It', 'was', 'coming', '--', 'as', 'the', 'Prime', 'Minister', 'had', 'known', 'at', 'the', 'first', 'cough', '--', 'from', 'the', 'froglike', 'little', 'man', 'wearing', 'a', 'long', 'silver', 'wig', 'who', 'was', 'depicted', 'in', 'a', 'small', ',', 'dirty', 'oil', 'painting', 'in', 'the', 'far', 'corner', 'of', 'the', 'room', '.']), ('d', ['``', 'To', 'the', 'Prime', 'Minister', 'of', 'Muggles', '.', 'Urgent', 'we', 'meet', '.', 'Kindly', 'respond', 'immediately', '.', 'Sincerely', ',', 'Fudge', '.', \"''\"]), ('n', ['The', 'man', 'in', 'the', 'painting', 'looked', 'inquiringly', 'at', 'the', 'Prime', 'Minister', '.']), ('d', ['``', 'Er', ',', \"''\"]), ('n', ['said', 'the', 'Prime', 'Minister', ',']), ('d', ['``', 'listen', '...', 'It', \"'s\", 'not', 'a', 'very', 'good', 'time', 'for', 'me', '...', 'I', \"'m\", 'waiting', 'for', 'a', 'telephone', 'call', ',', 'you', 'see', '...', 'from', 'the', 'President', 'of', '--', \"''\"]), ('n', []), ('d', [\"''\", 'That', 'can', 'be', 'rearranged', ',', \"''\"]), ('n', ['said', 'the', 'portrait', 'at', 'once', '.', 'The', 'Prime', 'Minister', \"'s\", 'heart', 'sank', '.', 'He', 'had', 'been', 'afraid', 'of', 'that', '.'])]\n"
     ]
    }
   ],
   "source": [
    "parsed = parse_text(tokenized)\n",
    "\n",
    "# the text below is the same as above, now categorized with an 'n' (narration) or 'd' (dialog)\n",
    "print(parsed[:13])"
   ]
  },
  {
   "cell_type": "markdown",
   "metadata": {},
   "source": [
    "#### Step 4: Distinguish parts of speech, like nouns, verbs, and adjectives\n",
    "Now that we've categorized text as narration or dialog, we can use NLTK's classification function to categorize words by the part of speech they represent.\n",
    "\n",
    "The `pos_tag` function of NLTK that we'll use to do this takes in a word as a string and returns a tuple of the word and a code for how it was classified.  For example, 'NNP' means the word has been tagged by NLTK as a proper noun, 'VB' means the word has been tagged as a verb.  So \"Harry\" in the sentence \"Harry is Petunia's nephew.\" would come back as `('Harry', 'NNP')`.  \n",
    "\n",
    "You can find a full list [here](https://pythonprogramming.net/natural-language-toolkit-nltk-part-speech-tagging/), but in the next steps we'll be focused primarily on adjectives, verbs and nouns.\n",
    "\n",
    "We will import the `pos_tag` function from NLTK and tag the words in a new function called `tagged_text`."
   ]
  },
  {
   "cell_type": "code",
   "execution_count": 44,
   "metadata": {},
   "outputs": [],
   "source": [
    "from nltk import pos_tag\n",
    "\n",
    "def tagged_text(t):\n",
    "    tagged = [(tuple[0], [pos_tag(tuple[1])]) for tuple in t]\n",
    "    return tagged"
   ]
  },
  {
   "cell_type": "code",
   "execution_count": 45,
   "metadata": {},
   "outputs": [
    {
     "name": "stdout",
     "output_type": "stream",
     "text": [
      "[('n', [[('Chapter', 'NN'), ('1', 'CD'), (':', ':'), ('The', 'DT'), ('Other', 'JJ'), ('Minister', 'NNP'), ('It', 'PRP'), ('was', 'VBD'), ('nearing', 'VBG'), ('midnight', 'NN'), ('and', 'CC'), ('the', 'DT'), ('Prime', 'NNP'), ('Minister', 'NNP'), ('was', 'VBD'), ('sitting', 'VBG'), ('alone', 'RB'), ('in', 'IN'), ('his', 'PRP$'), ('office', 'NN'), (',', ','), ('reading', 'VBG'), ('a', 'DT'), ('long', 'JJ'), ('memo', 'NN'), ('that', 'WDT'), ('was', 'VBD'), ('slipping', 'VBG'), ('through', 'IN'), ('his', 'PRP$'), ('brain', 'NN'), ('without', 'IN'), ('leaving', 'VBG'), ('the', 'DT'), ('slightest', 'JJS'), ('trace', 'NN'), ('of', 'IN'), ('meaning', 'VBG'), ('behind', 'NN'), ('.', '.'), ('He', 'PRP'), ('was', 'VBD'), ('waiting', 'VBG'), ('for', 'IN'), ('a', 'DT'), ('call', 'NN'), ('from', 'IN'), ('the', 'DT'), ('President', 'NNP'), ('of', 'IN'), ('a', 'DT'), ('far', 'RB'), ('distant', 'JJ'), ('country', 'NN'), (',', ','), ('and', 'CC'), ('between', 'IN'), ('wondering', 'VBG'), ('when', 'WRB'), ('the', 'DT'), ('wretched', 'JJ'), ('man', 'NN'), ('would', 'MD'), ('telephone', 'NN'), (',', ','), ('and', 'CC'), ('trying', 'VBG'), ('to', 'TO'), ('suppress', 'VB'), ('unpleasant', 'JJ'), ('memories', 'NNS'), ('of', 'IN'), ('what', 'WP'), ('had', 'VBD'), ('been', 'VBN'), ('a', 'DT'), ('very', 'RB'), ('long', 'RB'), (',', ','), ('tiring', 'VBG'), (',', ','), ('and', 'CC'), ('difficult', 'JJ'), ('week', 'NN'), (',', ','), ('there', 'EX'), ('was', 'VBD'), ('not', 'RB'), ('much', 'JJ'), ('space', 'NN'), ('in', 'IN'), ('his', 'PRP$'), ('head', 'NN'), ('for', 'IN'), ('anything', 'NN'), ('else', 'RB'), ('.', '.'), ('The', 'DT'), ('more', 'RBR'), ('he', 'PRP'), ('attempted', 'VBD'), ('to', 'TO'), ('focus', 'VB'), ('on', 'IN'), ('the', 'DT'), ('print', 'NN'), ('on', 'IN'), ('the', 'DT'), ('page', 'NN'), ('before', 'IN'), ('him', 'PRP'), (',', ','), ('the', 'DT'), ('more', 'JJR'), ('clearly', 'RB'), ('the', 'DT'), ('Prime', 'NNP'), ('Minister', 'NNP'), ('could', 'MD'), ('see', 'VB'), ('the', 'DT'), ('gloating', 'VBG'), ('face', 'NN'), ('of', 'IN'), ('one', 'CD'), ('of', 'IN'), ('his', 'PRP$'), ('political', 'JJ'), ('opponents', 'NNS'), ('.', '.'), ('This', 'DT'), ('particular', 'JJ'), ('opponent', 'NN'), ('had', 'VBD'), ('appeared', 'VBN'), ('on', 'IN'), ('the', 'DT'), ('news', 'NN'), ('that', 'WDT'), ('very', 'RB'), ('day', 'NN'), (',', ','), ('not', 'RB'), ('only', 'RB'), ('to', 'TO'), ('enumerate', 'VB'), ('all', 'PDT'), ('the', 'DT'), ('terrible', 'JJ'), ('things', 'NNS'), ('that', 'WDT'), ('had', 'VBD'), ('happened', 'VBN'), ('in', 'IN'), ('the', 'DT'), ('last', 'JJ'), ('week', 'NN'), ('(', '('), ('as', 'IN'), ('though', 'IN'), ('anyone', 'NN'), ('needed', 'VBN'), ('reminding', 'NN'), (')', ')'), ('but', 'CC'), ('also', 'RB'), ('to', 'TO'), ('explain', 'VB'), ('why', 'WRB'), ('each', 'DT'), ('and', 'CC'), ('every', 'DT'), ('one', 'CD'), ('of', 'IN'), ('them', 'PRP'), ('was', 'VBD'), ('the', 'DT'), ('government', 'NN'), (\"'s\", 'POS'), ('fault', 'NN'), ('.', '.'), ('The', 'DT'), ('Prime', 'NNP'), ('Minister', 'NNP'), (\"'s\", 'POS'), ('pulse', 'NN'), ('quickened', 'VBD'), ('at', 'IN'), ('the', 'DT'), ('very', 'RB'), ('thought', 'NN'), ('of', 'IN'), ('these', 'DT'), ('accusations', 'NNS'), (',', ','), ('for', 'IN'), ('they', 'PRP'), ('were', 'VBD'), ('neither', 'DT'), ('fair', 'JJ'), ('nor', 'CC'), ('true', 'JJ'), ('.', '.'), ('How', 'WRB'), ('on', 'IN'), ('earth', 'NN'), ('was', 'VBD'), ('his', 'PRP$'), ('government', 'NN'), ('supposed', 'VBD'), ('to', 'TO'), ('have', 'VB'), ('stopped', 'VBN'), ('that', 'IN'), ('bridge', 'NN'), ('collapsing', 'VBG'), ('?', '.'), ('It', 'PRP'), ('was', 'VBD'), ('outrageous', 'JJ'), ('for', 'IN'), ('anybody', 'NN'), ('to', 'TO'), ('suggest', 'VB'), ('that', 'IN'), ('they', 'PRP'), ('were', 'VBD'), ('not', 'RB'), ('spending', 'VBG'), ('enough', 'RB'), ('on', 'IN'), ('bridges', 'NNS'), ('.', '.'), ('The', 'DT'), ('bridge', 'NN'), ('was', 'VBD'), ('fewer', 'JJR'), ('than', 'IN'), ('ten', 'CD'), ('years', 'NNS'), ('old', 'JJ'), (',', ','), ('and', 'CC'), ('the', 'DT'), ('best', 'JJS'), ('experts', 'NNS'), ('were', 'VBD'), ('at', 'IN'), ('a', 'DT'), ('loss', 'NN'), ('to', 'TO'), ('explain', 'VB'), ('why', 'WRB'), ('it', 'PRP'), ('had', 'VBD'), ('snapped', 'VBN'), ('cleanly', 'RB'), ('in', 'IN'), ('two', 'CD'), (',', ','), ('sending', 'VBG'), ('a', 'DT'), ('dozen', 'NN'), ('cars', 'NNS'), ('into', 'IN'), ('the', 'DT'), ('watery', 'JJ'), ('depths', 'NN'), ('of', 'IN'), ('the', 'DT'), ('river', 'NN'), ('below', 'IN'), ('.', '.'), ('And', 'CC'), ('how', 'WRB'), ('dare', 'JJ'), ('anyone', 'NN'), ('suggest', 'VBP'), ('that', 'IN'), ('it', 'PRP'), ('was', 'VBD'), ('lack', 'NN'), ('of', 'IN'), ('policemen', 'NNS'), ('that', 'WDT'), ('had', 'VBD'), ('resulted', 'VBN'), ('in', 'IN'), ('those', 'DT'), ('two', 'CD'), ('very', 'RB'), ('nasty', 'JJ'), ('and', 'CC'), ('well-publicized', 'JJ'), ('murders', 'NNS'), ('?', '.'), ('Or', 'CC'), ('that', 'IN'), ('the', 'DT'), ('government', 'NN'), ('should', 'MD'), ('have', 'VB'), ('somehow', 'NN'), ('foreseen', 'IN'), ('the', 'DT'), ('freak', 'JJ'), ('hurricane', 'NN'), ('in', 'IN'), ('the', 'DT'), ('West', 'NNP'), ('Country', 'NNP'), ('that', 'WDT'), ('had', 'VBD'), ('caused', 'VBN'), ('so', 'RB'), ('much', 'JJ'), ('damage', 'NN'), ('to', 'TO'), ('both', 'DT'), ('people', 'NNS'), ('and', 'CC'), ('property', 'NN'), ('?', '.'), ('And', 'CC'), ('was', 'VBD'), ('it', 'PRP'), ('his', 'PRP$'), ('fault', 'NN'), ('that', 'IN'), ('one', 'CD'), ('of', 'IN'), ('his', 'PRP$'), ('Junior', 'NNP'), ('Ministers', 'NNP'), (',', ','), ('Herbert', 'NNP'), ('Chorley', 'NNP'), (',', ','), ('had', 'VBD'), ('chosen', 'VBN'), ('this', 'DT'), ('week', 'NN'), ('to', 'TO'), ('act', 'VB'), ('so', 'RB'), ('peculiarly', 'RB'), ('that', 'IN'), ('he', 'PRP'), ('was', 'VBD'), ('now', 'RB'), ('going', 'VBG'), ('to', 'TO'), ('be', 'VB'), ('spending', 'VBG'), ('a', 'DT'), ('lot', 'NN'), ('more', 'JJR'), ('time', 'NN'), ('with', 'IN'), ('his', 'PRP$'), ('family', 'NN'), ('?', '.')]]), ('d', [[('``', '``'), ('A', 'DT'), ('grim', 'JJ'), ('mood', 'NN'), ('has', 'VBZ'), ('gripped', 'VBN'), ('the', 'DT'), ('country', 'NN'), (',', ','), (\"''\", \"''\")]]), ('n', [[('the', 'DT'), ('opponent', 'NN'), ('had', 'VBD'), ('concluded', 'VBN'), (',', ','), ('barely', 'RB'), ('concealing', 'VBG'), ('his', 'PRP$'), ('own', 'JJ'), ('broad', 'JJ'), ('grin', 'NN'), ('.', '.'), ('And', 'CC'), ('unfortunately', 'RB'), (',', ','), ('this', 'DT'), ('was', 'VBD'), ('perfectly', 'RB'), ('true', 'JJ'), ('.', '.'), ('The', 'DT'), ('Prime', 'NNP'), ('Minister', 'NNP'), ('felt', 'VBD'), ('it', 'PRP'), ('himself', 'PRP'), (';', ':'), ('people', 'NNS'), ('really', 'RB'), ('did', 'VBD'), ('seem', 'VB'), ('more', 'RBR'), ('miserable', 'JJ'), ('than', 'IN'), ('usual', 'JJ'), ('.', '.'), ('Even', 'RB'), ('the', 'DT'), ('weather', 'NN'), ('was', 'VBD'), ('dismal', 'JJ'), (';', ':'), ('all', 'PDT'), ('this', 'DT'), ('chilly', 'JJ'), ('mist', 'NN'), ('in', 'IN'), ('the', 'DT'), ('middle', 'NN'), ('of', 'IN'), ('July', 'NNP'), ('...', ':'), ('It', 'PRP'), ('was', 'VBD'), (\"n't\", 'RB'), ('right', 'JJ'), (',', ','), ('it', 'PRP'), ('was', 'VBD'), (\"n't\", 'RB'), ('normal', 'JJ'), ('...', ':'), ('He', 'PRP'), ('turned', 'VBD'), ('over', 'RP'), ('the', 'DT'), ('second', 'JJ'), ('page', 'NN'), ('of', 'IN'), ('the', 'DT'), ('memo', 'NN'), (',', ','), ('saw', 'VBD'), ('how', 'WRB'), ('much', 'RB'), ('longer', 'JJR'), ('it', 'PRP'), ('went', 'VBD'), ('on', 'IN'), (',', ','), ('and', 'CC'), ('gave', 'VBD'), ('it', 'PRP'), ('up', 'RP'), ('as', 'IN'), ('a', 'DT'), ('bad', 'JJ'), ('job', 'NN'), ('.', '.'), ('Stretching', 'VBG'), ('his', 'PRP$'), ('arms', 'NNS'), ('above', 'IN'), ('his', 'PRP$'), ('head', 'NN'), ('he', 'PRP'), ('looked', 'VBD'), ('around', 'IN'), ('his', 'PRP$'), ('office', 'NN'), ('mournfully', 'RB'), ('.', '.'), ('It', 'PRP'), ('was', 'VBD'), ('a', 'DT'), ('handsome', 'JJ'), ('room', 'NN'), (',', ','), ('with', 'IN'), ('a', 'DT'), ('fine', 'JJ'), ('marble', 'JJ'), ('fireplace', 'NN'), ('facing', 'VBG'), ('the', 'DT'), ('long', 'JJ'), ('sash', 'NN'), ('windows', 'NNS'), (',', ','), ('firmly', 'RB'), ('closed', 'VBN'), ('against', 'IN'), ('the', 'DT'), ('unseasonable', 'JJ'), ('chill', 'NN'), ('.', '.'), ('With', 'IN'), ('a', 'DT'), ('slight', 'JJ'), ('shiver', 'NN'), (',', ','), ('the', 'DT'), ('Prime', 'NNP'), ('Minister', 'NNP'), ('got', 'VBD'), ('up', 'RB'), ('and', 'CC'), ('moved', 'VBD'), ('over', 'RB'), ('to', 'TO'), ('the', 'DT'), ('window', 'NN'), (',', ','), ('looking', 'VBG'), ('out', 'RP'), ('at', 'IN'), ('the', 'DT'), ('thin', 'JJ'), ('mist', 'NN'), ('that', 'WDT'), ('was', 'VBD'), ('pressing', 'VBG'), ('itself', 'PRP'), ('against', 'IN'), ('the', 'DT'), ('glass', 'NN'), ('.', '.'), ('It', 'PRP'), ('was', 'VBD'), ('then', 'RB'), (',', ','), ('as', 'IN'), ('he', 'PRP'), ('stood', 'VBD'), ('with', 'IN'), ('his', 'PRP$'), ('back', 'NN'), ('to', 'TO'), ('the', 'DT'), ('room', 'NN'), (',', ','), ('that', 'IN'), ('he', 'PRP'), ('heard', 'VBD'), ('a', 'DT'), ('soft', 'JJ'), ('cough', 'NN'), ('behind', 'IN'), ('him', 'PRP'), ('.', '.'), ('He', 'PRP'), ('froze', 'VBD'), (',', ','), ('nose', 'JJ'), ('to', 'TO'), ('nose', 'VB'), ('with', 'IN'), ('his', 'PRP$'), ('own', 'JJ'), ('scared-looking', 'JJ'), ('reflection', 'NN'), ('in', 'IN'), ('the', 'DT'), ('dark', 'JJ'), ('glass', 'NN'), ('.', '.'), ('He', 'PRP'), ('knew', 'VBD'), ('that', 'IN'), ('cough', 'NN'), ('.', '.'), ('He', 'PRP'), ('had', 'VBD'), ('heard', 'VBN'), ('it', 'PRP'), ('before', 'RB'), ('.', '.'), ('He', 'PRP'), ('turned', 'VBD'), ('very', 'RB'), ('slowly', 'RB'), ('to', 'TO'), ('face', 'VB'), ('the', 'DT'), ('empty', 'JJ'), ('room', 'NN'), ('.', '.')]]), ('d', [[('``', '``'), ('Hello', 'NNP'), ('?', '.'), (\"''\", \"''\")]]), ('n', [[('he', 'PRP'), ('said', 'VBD'), (',', ','), ('trying', 'VBG'), ('to', 'TO'), ('sound', 'VB'), ('braver', 'RB'), ('than', 'IN'), ('he', 'PRP'), ('felt', 'VBD'), ('.', '.'), ('For', 'IN'), ('a', 'DT'), ('brief', 'JJ'), ('moment', 'NN'), ('he', 'PRP'), ('allowed', 'VBD'), ('himself', 'PRP'), ('the', 'DT'), ('impossible', 'JJ'), ('hope', 'NN'), ('that', 'IN'), ('nobody', 'NN'), ('would', 'MD'), ('answer', 'VB'), ('him', 'PRP'), ('.', '.'), ('However', 'RB'), (',', ','), ('a', 'DT'), ('voice', 'NN'), ('responded', 'VBD'), ('at', 'IN'), ('once', 'RB'), (',', ','), ('a', 'DT'), ('crisp', 'NN'), (',', ','), ('decisive', 'JJ'), ('voice', 'NN'), ('that', 'WDT'), ('sounded', 'VBD'), ('as', 'IN'), ('though', 'IN'), ('it', 'PRP'), ('were', 'VBD'), ('reading', 'VBG'), ('a', 'DT'), ('prepared', 'JJ'), ('statement', 'NN'), ('.', '.'), ('It', 'PRP'), ('was', 'VBD'), ('coming', 'VBG'), ('--', ':'), ('as', 'IN'), ('the', 'DT'), ('Prime', 'NNP'), ('Minister', 'NNP'), ('had', 'VBD'), ('known', 'VBN'), ('at', 'IN'), ('the', 'DT'), ('first', 'JJ'), ('cough', 'NN'), ('--', ':'), ('from', 'IN'), ('the', 'DT'), ('froglike', 'JJ'), ('little', 'JJ'), ('man', 'NN'), ('wearing', 'VBG'), ('a', 'DT'), ('long', 'JJ'), ('silver', 'NN'), ('wig', 'NN'), ('who', 'WP'), ('was', 'VBD'), ('depicted', 'VBN'), ('in', 'IN'), ('a', 'DT'), ('small', 'JJ'), (',', ','), ('dirty', 'JJ'), ('oil', 'NN'), ('painting', 'NN'), ('in', 'IN'), ('the', 'DT'), ('far', 'RB'), ('corner', 'NN'), ('of', 'IN'), ('the', 'DT'), ('room', 'NN'), ('.', '.')]]), ('d', [[('``', '``'), ('To', 'TO'), ('the', 'DT'), ('Prime', 'NNP'), ('Minister', 'NNP'), ('of', 'IN'), ('Muggles', 'NNP'), ('.', '.'), ('Urgent', 'NN'), ('we', 'PRP'), ('meet', 'VBP'), ('.', '.'), ('Kindly', 'NNP'), ('respond', 'VBD'), ('immediately', 'RB'), ('.', '.'), ('Sincerely', 'RB'), (',', ','), ('Fudge', 'NNP'), ('.', '.'), (\"''\", \"''\")]]), ('n', [[('The', 'DT'), ('man', 'NN'), ('in', 'IN'), ('the', 'DT'), ('painting', 'NN'), ('looked', 'VBD'), ('inquiringly', 'RB'), ('at', 'IN'), ('the', 'DT'), ('Prime', 'NNP'), ('Minister', 'NNP'), ('.', '.')]]), ('d', [[('``', '``'), ('Er', 'NN'), (',', ','), (\"''\", \"''\")]]), ('n', [[('said', 'VBD'), ('the', 'DT'), ('Prime', 'NNP'), ('Minister', 'NNP'), (',', ',')]]), ('d', [[('``', '``'), ('listen', 'NN'), ('...', ':'), ('It', 'PRP'), (\"'s\", 'VBZ'), ('not', 'RB'), ('a', 'DT'), ('very', 'RB'), ('good', 'JJ'), ('time', 'NN'), ('for', 'IN'), ('me', 'PRP'), ('...', ':'), ('I', 'PRP'), (\"'m\", 'VBP'), ('waiting', 'VBG'), ('for', 'IN'), ('a', 'DT'), ('telephone', 'NN'), ('call', 'NN'), (',', ','), ('you', 'PRP'), ('see', 'VBP'), ('...', ':'), ('from', 'IN'), ('the', 'DT'), ('President', 'NNP'), ('of', 'IN'), ('--', ':'), (\"''\", \"''\")]]), ('n', [[]]), ('d', [[(\"''\", \"''\"), ('That', 'WDT'), ('can', 'MD'), ('be', 'VB'), ('rearranged', 'VBN'), (',', ','), (\"''\", \"''\")]]), ('n', [[('said', 'VBD'), ('the', 'DT'), ('portrait', 'NN'), ('at', 'IN'), ('once', 'RB'), ('.', '.'), ('The', 'DT'), ('Prime', 'NNP'), ('Minister', 'NNP'), (\"'s\", 'POS'), ('heart', 'NN'), ('sank', 'NN'), ('.', '.'), ('He', 'PRP'), ('had', 'VBD'), ('been', 'VBN'), ('afraid', 'VBN'), ('of', 'IN'), ('that', 'DT'), ('.', '.')]])]\n"
     ]
    }
   ],
   "source": [
    "# we'll pass the function the parsed variable in which the text is classified as narration or dialog\n",
    "# and then print the same text as above with the tagging\n",
    "\n",
    "tagged = tagged_text(parsed)\n",
    "print(tagged[:13])"
   ]
  },
  {
   "cell_type": "markdown",
   "metadata": {},
   "source": [
    "To recap: now we have a big list of tuples that represents an entire book, with the text still in its original order. \n",
    "\n",
    "Each item in the list is a tuple.  \n",
    "\n",
    "The first value is the tuple an `'n'` for narration or `'d'` for dialog.  \n",
    "\n",
    "The second item in the tuple is a list of tuples.  Each of these tuples include a word or punctuation mark and the appropriate tag for the part of speech it represents."
   ]
  },
  {
   "cell_type": "code",
   "execution_count": null,
   "metadata": {},
   "outputs": [],
   "source": [
    "#### Step 4: Teasing out sexist language\n"
   ]
  },
  {
   "cell_type": "markdown",
   "metadata": {},
   "source": [
    "#### Sexist language\n",
    "Since sexism in language is sometimes very subtle, a challenge for this project is identifying what words or combinations of words and their context should be considered biased.\n",
    "\n",
    "After some searching, I found a couple of excellent lists.  Because the Harry Potter series is written in English by a British writer, I focused on sources from the UK and countries in the Commonwealth.  Using this blog post by a [New Zealand blogger](http://sacraparental.com/2016/05/14/everyday-misogyny-122-subtly-sexist-words-women/) I had a first set of words and some excellent categories to begin with.  I found a number of [other](http://time.com/4268325/history-calling-women-shrill/) excellent articles about sexism in language, which I used to add to the `sexist_words` Python dictionary below."
   ]
  },
  {
   "cell_type": "code",
   "execution_count": null,
   "metadata": {},
   "outputs": [],
   "source": []
  },
  {
   "cell_type": "code",
   "execution_count": null,
   "metadata": {},
   "outputs": [],
   "source": [
    "sexist_words ={ \n",
    "    'assertiveness': ['bossy', 'abrasive', 'ball-buster', 'aggressive', 'shrill', 'bolshy', 'intense', 'stroppy', 'forward', 'mannish', 'strident', 'know-it-all'],\n",
    "    'behavior' : ['cackle', 'shriek', 'caterwaul', 'yowl', 'screech','gossip', 'dramatic', 'catty', 'bitch', 'nag', 'cold', 'icy', 'shrew', 'humorless', 'man-hater', 'banshee', 'fishwife', 'lippy', 'ditzy', 'diva', 'prima donna', 'feisty', 'ladylike', 'bubbly', 'vivaious', 'flirt', 'sass', 'chatty', 'demure', 'modest', 'emotional', 'hysterical', 'hormonal', 'menstrual', 'flaky', 'moody', 'over-sensitive'],\n",
    "    'sexuality': ['slut', 'trollop', 'frigid', 'easy', 'tease', 'loose', 'man-eater', 'prude', 'curvy', 'cheap', 'frumpy', 'faded', 'mousey', 'clotheshorse', 'cow', 'hag'],\n",
    "    'relationship': ['spinster', 'barren', 'housewife', 'houseproud', 'soccer mom', 'mistress', 'kept woman'],\n",
    "    'praise': ['caring', 'compassionate', 'hard-working', 'conscientious', 'dependable', 'diligent', 'dedicated', 'tactful', 'interpersonal', 'warm', 'helpful'],\n",
    "}"
   ]
  },
  {
   "cell_type": "markdown",
   "metadata": {},
   "source": [
    "#### Step 3: Parsing the text\n"
   ]
  },
  {
   "cell_type": "code",
   "execution_count": null,
   "metadata": {},
   "outputs": [],
   "source": []
  }
 ],
 "metadata": {
  "kernelspec": {
   "display_name": "Python 3",
   "language": "python",
   "name": "python3"
  },
  "language_info": {
   "codemirror_mode": {
    "name": "ipython",
    "version": 3
   },
   "file_extension": ".py",
   "mimetype": "text/x-python",
   "name": "python",
   "nbconvert_exporter": "python",
   "pygments_lexer": "ipython3",
   "version": "3.6.2"
  }
 },
 "nbformat": 4,
 "nbformat_minor": 2
}
