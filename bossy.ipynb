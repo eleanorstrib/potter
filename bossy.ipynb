{
 "cells": [
  {
   "cell_type": "markdown",
   "metadata": {},
   "source": [
    "## \"A Bossy Sort of Voice\"\n",
    "#### A study of sexism in the Harry Potter series using Natural Language Processing"
   ]
  },
  {
   "cell_type": "markdown",
   "metadata": {},
   "source": [
    "My eldest son is almost 6 and loves the Harry Potter series of books.  But, as I read them for the first time with him as a bedtime story, I noticed something hadn't expected.  \n",
    "\n",
    "The sexism.\n",
    "\n",
    "The sexism critique of the Harry Potter novels is not a new one - many people have (written)[https://www.bustle.com/articles/136244-the-5-least-feminist-moments-in-harry-potter] excellent articles about Ron's treatment of Hermoine, the portrayl of other female characters as cold or incompetent or promiscuous.  But there were two types of analyses I didn't see: a quantitative or linguistics based one, or something that looked at how the author herself portrays female characters in a biased light in how they speak\n",
    "\n",
    "My hope in doing this is that people will use some of these tools to look more critically at the language of literature we love and the popular press for signs of gender, racial, and other bias."
   ]
  },
  {
   "cell_type": "markdown",
   "metadata": {},
   "source": [
    "#### Getting started: setting up hypotheses and requirements\n",
    "\n",
    "In this project, I will test three hypotheses:\n",
    "\n",
    "1. Female characters are referred to by the narrator with sexist words throughout the series by the narrator, while males are not described with that same language.\n",
    "\n",
    "2. The narrator will use more sexist words when describing the female characters than other characters will use when talking about them.\n",
    "\n",
    "3. Sexism as defined above will decline in both dialog and narration as the series progresses.\n",
    "\n",
    "\n",
    "Taking this approach requires tools to do the following, which I'll tackle in this workbook:\n",
    "\n",
    "1. Process text from all 7 'Harry Potter' books.\n",
    "\n",
    "2. Look at the text at the word and sentence level.\n",
    "\n",
    "3. Distinguish parts of speech, like nouns, verbs, and adjectives.\n",
    "\n",
    "4. Seperate dialog from narration.\n",
    "\n",
    "5. Be able to tell female characters from male characters\n",
    "\n",
    "6. Have examples of sexist words and/or phrases to create a classifier. \n",
    "\n",
    "7. Reduce sexist words in the text to their root forms (e.g. 'shriller' should be equivalent to 'shrill').\n",
    "\n",
    "8. Summarize the data to test our hypotheses.\n"
   ]
  },
  {
   "cell_type": "markdown",
   "metadata": {},
   "source": [
    "#### Step 1: Process text from all 7 'Harry Potter' books.\n",
    "\n",
    "What I mean by \"process\", is to get the text from the series into a format that can be read into a computer program for analysis.  For this project, I'll be using the [Python programming language](https://www.python.org/), and a few libraries (basically groupings of code that completes specialized common processes), most notably the [Natural Language Processing Toolkit (NLTK)](http://www.nltk.org/).\n",
    "\n",
    "To do this, I am going to read 7 files in the .txt format, each containing text of one of the books, using Python's built-in `open` function and `read` method.  You can get the files for these and other books from [this site](https://archive.org/stream/pdfy-ZhGUmtnn6LEtA7jL/Harry%20Potter%20and%20the%20Philosopher%27s%20Stone%2C%20by%20J.K.%20Rowling_djvu.txt) -- note that you can use existing txt format files, or copy text, paste it in Notepad and save as a .txt file.\n",
    "\n",
    "In this code, the files are named 'hp' then the book number - i.e. `hp1.txt` - and stored in a folder called `corpus`. To run the code as it is, you'll need to recreate this schema or alter the code to fit the path you create.\n",
    "\n",
    "Let's write a function to read in our text.  "
   ]
  },
  {
   "cell_type": "code",
   "execution_count": 1,
   "metadata": {},
   "outputs": [
    {
     "name": "stdout",
     "output_type": "stream",
     "text": [
      "For a brief moment he allowed himself the impossible hope that nobody would answer him. However, a voice responded at once, a crisp, decisive voice that sounded as though it were reading a prepared statement. It was coming -- as the Prime Minister had known at the first cough -- from the froglike little man wearing a long silver wig who was depicted in a small, dirty oil painting in the far corner of the room.\n",
      "\"To the Prime Minister of Muggles. Urgent we meet. Kindly respond immediately. Sincerely, Fudge.\"\n",
      "The man in the painting looked inquiringly at the Prime Minister.\n",
      "\"Er,\" said the Prime Minister, \"listen... It's not a very good time for me... I'm waiting for a telephone call, you see... from the President of--\"\n",
      "\"That can be rearranged,\" said the portrait at once. The Prime Minister's heart sank. He had been afraid of that.\n",
      "\"But I really was rather hoping to speak--\"\n",
      "\"We shall arrange for the President to forget to call. He will telephone tomorrow night instead,\" said the little man.\n"
     ]
    }
   ],
   "source": [
    "def read_file(num):\n",
    "    text = ''\n",
    "    with open('corpus/hp'+ str(num) + '.txt', 'rt') as file_in:\n",
    "        for line in file_in:\n",
    "            text = text + line\n",
    "    return text\n",
    "\n",
    "book_content = read_file(6)\n",
    "print(book_content[3000:4002])"
   ]
  },
  {
   "cell_type": "markdown",
   "metadata": {},
   "source": [
    "Running this would return a single long string of text, and it's now usable in our program.  Notice that we pass in the number of the book we want to open with the `num` variable."
   ]
  },
  {
   "cell_type": "markdown",
   "metadata": {},
   "source": [
    "#### Step 2: Seperate dialog from narrative\n",
    "In the text above, the opening and closing quotes look the same: `\"`.  However, when we tokenize the text, NLTK makes opening and closing quotes look different, so we can see where dialog begins and ends.  Let's give it a try!"
   ]
  },
  {
   "cell_type": "code",
   "execution_count": 2,
   "metadata": {},
   "outputs": [
    {
     "name": "stdout",
     "output_type": "stream",
     "text": [
      "['For', 'a', 'brief', 'moment', 'he', 'allowed', 'himself', 'the', 'impossible', 'hope', 'that', 'nobody', 'would', 'answer', 'him', '.', 'However', ',', 'a', 'voice', 'responded', 'at', 'once', ',', 'a', 'crisp', ',', 'decisive', 'voice', 'that', 'sounded', 'as', 'though', 'it', 'were', 'reading', 'a', 'prepared', 'statement', '.', 'It', 'was', 'coming', '--', 'as', 'the', 'Prime', 'Minister', 'had', 'known', 'at', 'the', 'first', 'cough', '--', 'from', 'the', 'froglike', 'little', 'man', 'wearing', 'a', 'long', 'silver', 'wig', 'who', 'was', 'depicted', 'in', 'a', 'small', ',', 'dirty', 'oil', 'painting', 'in', 'the', 'far', 'corner', 'of', 'the', 'room', '.', '``', 'To', 'the', 'Prime', 'Minister', 'of', 'Muggles', '.', 'Urgent', 'we', 'meet', '.', 'Kindly', 'respond', 'immediately', '.', 'Sincerely', ',', 'Fudge', '.', \"''\", 'The', 'man', 'in', 'the', 'painting', 'looked', 'inquiringly', 'at', 'the', 'Prime', 'Minister', '.', '``', 'Er', ',', \"''\", 'said', 'the', 'Prime', 'Minister', ',', '``', 'listen', '...', 'It', \"'s\", 'not', 'a', 'very', 'good', 'time', 'for', 'me', '...', 'I', \"'m\", 'waiting', 'for', 'a', 'telephone', 'call', ',', 'you', 'see', '...', 'from', 'the', 'President', 'of', '--', \"''\", \"''\", 'That', 'can', 'be', 'rearranged', ',', \"''\", 'said', 'the', 'portrait', 'at', 'once', '.', 'The', 'Prime', 'Minister', \"'s\", 'heart', 'sank', '.', 'He', 'had', 'been', 'afraid', 'of', 'that', '.', '``', 'But', 'I', 'really', 'was', 'rather', 'hoping', 'to', 'speak', '--', \"''\", \"''\", 'We', 'shall', 'arrange', 'for', 'the', 'President', 'to', 'forget', 'to', 'call', '.', 'He', 'will', 'telephone', 'tomorrow', 'night', 'instead', ',', \"''\", 'said', 'the', 'little', 'man', '.']\n"
     ]
    }
   ],
   "source": [
    "from nltk import word_tokenize\n",
    "\n",
    "def tokenize_text(book_content):\n",
    "    tokenized = word_tokenize(book_content)\n",
    "    return tokenized\n",
    "\n",
    "tokenized = tokenize_text(book_content)\n",
    "print (tokenized[604:822])"
   ]
  },
  {
   "cell_type": "markdown",
   "metadata": {},
   "source": [
    "As you can see in the text above, our opening and closing quotes look like this: `'``' and \"''\"`.  This is a helpful tool in judging where dialog begins and ends across sentences.  Next, we will set up some rules around this and label parts of text."
   ]
  },
  {
   "cell_type": "markdown",
   "metadata": {},
   "source": [
    "#### Step 3: Label dialog and narration\n",
    "In this step, we will label these two types of text while keeping them in order in case we need context.  To do this, we'll keep the list format to preserve order and create a tuple for each piece of dialogue.  So, for example:\n",
    "\n",
    "`\"''\", 'That', 'can', 'be', 'rearranged', ',', \"''\", 'said', 'the', 'portrait', 'at', 'once', '.'`\n",
    "\n",
    "Would become:\n",
    "\n",
    "`('d', [\"''\", 'That', 'can', 'be', 'rearranged', ',', \"''\",]), ('n', ['said', 'the', 'portrait', 'at', 'once', '.'])`\n",
    "\n",
    "What we'll do to achieve this is:\n",
    "1. Create a new list called `parsed`.\n",
    "1. Loop through the text in `tokenized` variable (printed above).  When we hit an open quote character, stop, grab everything up to that point and make it a list in a tuple where the first value is `n` for \"narration\", and the second value is a list containing all of those words (e.g. `('n', ['For', 'a', 'brief', 'moment', 'he', 'allowed', 'himself', 'the', 'impossible', 'hope', 'that', 'nobody', 'would', 'answer', 'him', '.', 'However', ',', 'a', 'voice', 'responded', 'at', 'once', ',', 'a', 'crisp', ',', 'decisive', 'voice', 'that', 'sounded', 'as', 'though', 'it', 'were', 'reading', 'a', 'prepared', 'statement', '.', 'It', 'was', 'coming', '--', 'as', 'the', 'Prime', 'Minister', 'had', 'known', 'at', 'the', 'first', 'cough', '--', 'from', 'the', 'froglike', 'little', 'man', 'wearing', 'a', 'long', 'silver', 'wig', 'who', 'was', 'depicted', 'in', 'a', 'small', ',', 'dirty', 'oil', 'painting', 'in', 'the', 'far', 'corner', 'of', 'the', 'room', '.',']`.  \n",
    "2. Append this tuple to `text_parsed`.\n",
    "3. Use the point where we found the open quote as a placeholder, then look ahead until we find a close quote.\n",
    "4. Take the whole slice, from open quote to close quote.\n",
    "4. Drop the slice into a tuple where the first value is `d` for \"dialog\" and the second value is a list containing all of the words and the quotes (e.g. `('d', '``', 'To', 'the', 'Prime', 'Minister', 'of', 'Muggles', '.', 'Urgent', 'we', 'meet', '.', 'Kindly', 'respond', 'immediately', '.', 'Sincerely', ',', 'Fudge', '.', \"''\")`)\n",
    "\n",
    "The function to do this will be called `parse_text`. "
   ]
  },
  {
   "cell_type": "code",
   "execution_count": 22,
   "metadata": {},
   "outputs": [],
   "source": [
    "def parse_text(t):\n",
    "    open_q = '``'\n",
    "    close_q = \"''\"\n",
    "    found_c = False # this will be used to break the while loop below\n",
    "    # current will hold words until an open quote is found\n",
    "    current = []\n",
    "    # parsed is the list we'll eventually return, and where the ('n', ['sentence']) or ('d', ['sentence']) tuples\n",
    "    # will be appended\n",
    "    parsed = [] \n",
    "    length = len(t)\n",
    "    i = 0\n",
    "\n",
    "    while i < length:\n",
    "        word = t[i]\n",
    "        \n",
    "        if word != open_q:\n",
    "            current.append(word)\n",
    "\n",
    "        elif word == open_q:\n",
    "            parsed.append(('n', current))\n",
    "            \n",
    "            current = []\n",
    "            current.append(word)\n",
    "            \n",
    "            while found_c == False and i < length-1:\n",
    "                i += 1\n",
    "                if t[i] != close_q:\n",
    "                    current.append(t[i])\n",
    "                else:\n",
    "                    current.append(t[i])\n",
    "                    parsed.append(('d', current))\n",
    "                    current = []\n",
    "                    found_c = True\n",
    "        \n",
    "        found_c = False\n",
    "        i += 1\n",
    "        \n",
    "    return parsed\n",
    "        "
   ]
  },
  {
   "cell_type": "code",
   "execution_count": 24,
   "metadata": {},
   "outputs": [
    {
     "name": "stdout",
     "output_type": "stream",
     "text": [
      "[('n', ['Chapter', '1', ':', 'The', 'Other', 'Minister', 'It', 'was', 'nearing', 'midnight', 'and', 'the', 'Prime', 'Minister', 'was', 'sitting', 'alone', 'in', 'his', 'office', ',', 'reading', 'a', 'long', 'memo', 'that', 'was', 'slipping', 'through', 'his', 'brain', 'without', 'leaving', 'the', 'slightest', 'trace', 'of', 'meaning', 'behind', '.', 'He', 'was', 'waiting', 'for', 'a', 'call', 'from', 'the', 'President', 'of', 'a', 'far', 'distant', 'country', ',', 'and', 'between', 'wondering', 'when', 'the', 'wretched', 'man', 'would', 'telephone', ',', 'and', 'trying', 'to', 'suppress', 'unpleasant', 'memories', 'of', 'what', 'had', 'been', 'a', 'very', 'long', ',', 'tiring', ',', 'and', 'difficult', 'week', ',', 'there', 'was', 'not', 'much', 'space', 'in', 'his', 'head', 'for', 'anything', 'else', '.', 'The', 'more', 'he', 'attempted', 'to', 'focus', 'on', 'the', 'print', 'on', 'the', 'page', 'before', 'him', ',', 'the', 'more', 'clearly', 'the', 'Prime', 'Minister', 'could', 'see', 'the', 'gloating', 'face', 'of', 'one', 'of', 'his', 'political', 'opponents', '.', 'This', 'particular', 'opponent', 'had', 'appeared', 'on', 'the', 'news', 'that', 'very', 'day', ',', 'not', 'only', 'to', 'enumerate', 'all', 'the', 'terrible', 'things', 'that', 'had', 'happened', 'in', 'the', 'last', 'week', '(', 'as', 'though', 'anyone', 'needed', 'reminding', ')', 'but', 'also', 'to', 'explain', 'why', 'each', 'and', 'every', 'one', 'of', 'them', 'was', 'the', 'government', \"'s\", 'fault', '.', 'The', 'Prime', 'Minister', \"'s\", 'pulse', 'quickened', 'at', 'the', 'very', 'thought', 'of', 'these', 'accusations', ',', 'for', 'they', 'were', 'neither', 'fair', 'nor', 'true', '.', 'How', 'on', 'earth', 'was', 'his', 'government', 'supposed', 'to', 'have', 'stopped', 'that', 'bridge', 'collapsing', '?', 'It', 'was', 'outrageous', 'for', 'anybody', 'to', 'suggest', 'that', 'they', 'were', 'not', 'spending', 'enough', 'on', 'bridges', '.', 'The', 'bridge', 'was', 'fewer', 'than', 'ten', 'years', 'old', ',', 'and', 'the', 'best', 'experts', 'were', 'at', 'a', 'loss', 'to', 'explain', 'why', 'it', 'had', 'snapped', 'cleanly', 'in', 'two', ',', 'sending', 'a', 'dozen', 'cars', 'into', 'the', 'watery', 'depths', 'of', 'the', 'river', 'below', '.', 'And', 'how', 'dare', 'anyone', 'suggest', 'that', 'it', 'was', 'lack', 'of', 'policemen', 'that', 'had', 'resulted', 'in', 'those', 'two', 'very', 'nasty', 'and', 'well-publicized', 'murders', '?', 'Or', 'that', 'the', 'government', 'should', 'have', 'somehow', 'foreseen', 'the', 'freak', 'hurricane', 'in', 'the', 'West', 'Country', 'that', 'had', 'caused', 'so', 'much', 'damage', 'to', 'both', 'people', 'and', 'property', '?', 'And', 'was', 'it', 'his', 'fault', 'that', 'one', 'of', 'his', 'Junior', 'Ministers', ',', 'Herbert', 'Chorley', ',', 'had', 'chosen', 'this', 'week', 'to', 'act', 'so', 'peculiarly', 'that', 'he', 'was', 'now', 'going', 'to', 'be', 'spending', 'a', 'lot', 'more', 'time', 'with', 'his', 'family', '?']), ('d', ['``', 'A', 'grim', 'mood', 'has', 'gripped', 'the', 'country', ',', \"''\"]), ('n', ['the', 'opponent', 'had', 'concluded', ',', 'barely', 'concealing', 'his', 'own', 'broad', 'grin', '.', 'And', 'unfortunately', ',', 'this', 'was', 'perfectly', 'true', '.', 'The', 'Prime', 'Minister', 'felt', 'it', 'himself', ';', 'people', 'really', 'did', 'seem', 'more', 'miserable', 'than', 'usual', '.', 'Even', 'the', 'weather', 'was', 'dismal', ';', 'all', 'this', 'chilly', 'mist', 'in', 'the', 'middle', 'of', 'July', '...', 'It', 'was', \"n't\", 'right', ',', 'it', 'was', \"n't\", 'normal', '...', 'He', 'turned', 'over', 'the', 'second', 'page', 'of', 'the', 'memo', ',', 'saw', 'how', 'much', 'longer', 'it', 'went', 'on', ',', 'and', 'gave', 'it', 'up', 'as', 'a', 'bad', 'job', '.', 'Stretching', 'his', 'arms', 'above', 'his', 'head', 'he', 'looked', 'around', 'his', 'office', 'mournfully', '.', 'It', 'was', 'a', 'handsome', 'room', ',', 'with', 'a', 'fine', 'marble', 'fireplace', 'facing', 'the', 'long', 'sash', 'windows', ',', 'firmly', 'closed', 'against', 'the', 'unseasonable', 'chill', '.', 'With', 'a', 'slight', 'shiver', ',', 'the', 'Prime', 'Minister', 'got', 'up', 'and', 'moved', 'over', 'to', 'the', 'window', ',', 'looking', 'out', 'at', 'the', 'thin', 'mist', 'that', 'was', 'pressing', 'itself', 'against', 'the', 'glass', '.', 'It', 'was', 'then', ',', 'as', 'he', 'stood', 'with', 'his', 'back', 'to', 'the', 'room', ',', 'that', 'he', 'heard', 'a', 'soft', 'cough', 'behind', 'him', '.', 'He', 'froze', ',', 'nose', 'to', 'nose', 'with', 'his', 'own', 'scared-looking', 'reflection', 'in', 'the', 'dark', 'glass', '.', 'He', 'knew', 'that', 'cough', '.', 'He', 'had', 'heard', 'it', 'before', '.', 'He', 'turned', 'very', 'slowly', 'to', 'face', 'the', 'empty', 'room', '.']), ('d', ['``', 'Hello', '?', \"''\"]), ('n', ['he', 'said', ',', 'trying', 'to', 'sound', 'braver', 'than', 'he', 'felt', '.', 'For', 'a', 'brief', 'moment', 'he', 'allowed', 'himself', 'the', 'impossible', 'hope', 'that', 'nobody', 'would', 'answer', 'him', '.', 'However', ',', 'a', 'voice', 'responded', 'at', 'once', ',', 'a', 'crisp', ',', 'decisive', 'voice', 'that', 'sounded', 'as', 'though', 'it', 'were', 'reading', 'a', 'prepared', 'statement', '.', 'It', 'was', 'coming', '--', 'as', 'the', 'Prime', 'Minister', 'had', 'known', 'at', 'the', 'first', 'cough', '--', 'from', 'the', 'froglike', 'little', 'man', 'wearing', 'a', 'long', 'silver', 'wig', 'who', 'was', 'depicted', 'in', 'a', 'small', ',', 'dirty', 'oil', 'painting', 'in', 'the', 'far', 'corner', 'of', 'the', 'room', '.']), ('d', ['``', 'To', 'the', 'Prime', 'Minister', 'of', 'Muggles', '.', 'Urgent', 'we', 'meet', '.', 'Kindly', 'respond', 'immediately', '.', 'Sincerely', ',', 'Fudge', '.', \"''\"]), ('n', ['The', 'man', 'in', 'the', 'painting', 'looked', 'inquiringly', 'at', 'the', 'Prime', 'Minister', '.']), ('d', ['``', 'Er', ',', \"''\"]), ('n', ['said', 'the', 'Prime', 'Minister', ',']), ('d', ['``', 'listen', '...', 'It', \"'s\", 'not', 'a', 'very', 'good', 'time', 'for', 'me', '...', 'I', \"'m\", 'waiting', 'for', 'a', 'telephone', 'call', ',', 'you', 'see', '...', 'from', 'the', 'President', 'of', '--', \"''\"]), ('n', [\"''\", 'That', 'can', 'be', 'rearranged', ',', \"''\", 'said', 'the', 'portrait', 'at', 'once', '.', 'The', 'Prime', 'Minister', \"'s\", 'heart', 'sank', '.', 'He', 'had', 'been', 'afraid', 'of', 'that', '.']), ('d', ['``', 'But', 'I', 'really', 'was', 'rather', 'hoping', 'to', 'speak', '--', \"''\"]), ('n', [\"''\", 'We', 'shall', 'arrange', 'for', 'the', 'President', 'to', 'forget', 'to', 'call', '.', 'He', 'will', 'telephone', 'tomorrow', 'night', 'instead', ',', \"''\", 'said', 'the', 'little', 'man', '.']), ('d', ['``', 'Kindly', 'respond', 'immediately', 'to', 'Mr', '.', 'Fudge', '.', \"''\"]), ('n', []), ('d', ['``', 'I', '...', 'oh', '...', 'very', 'well', ',', \"''\"]), ('n', ['said', 'the', 'Prime', 'Minister', 'weakly', '.']), ('d', ['``', 'Yes', ',', 'I', \"'ll\", 'see', 'Fudge', '.', \"''\"]), ('n', ['He', 'hurried', 'back', 'to', 'his', 'desk', ',', 'straightening', 'his', 'tie', 'as', 'he', 'went', '.', 'He', 'had', 'barely', 'resumed', 'his', 'seat', ',', 'and', 'arranged', 'his', 'face', 'into', 'what', 'he', 'hoped', 'was', 'a', 'relaxed', 'and', 'unfazed', 'expression', ',', 'when', 'bright', 'green', 'flames', 'burst', 'into', 'life', 'in', 'the', 'empty', 'grate', 'beneath', 'his', 'marble', 'mantelpiece', '.', 'He', 'watched', ',', 'trying', 'not', 'to', 'betray', 'a', 'flicker', 'of', 'surprise', 'or', 'alarm', ',', 'as', 'a', 'portly', 'man', 'appeared', 'within', 'the', 'flames', ',', 'spinning', 'as', 'fast', 'as', 'a', 'top', '.', 'Seconds', 'later', ',', 'he', 'had', 'climbed', 'out', 'onto', 'a', 'rather', 'fine', 'antique', 'rug', ',', 'brushing', 'ash', 'from', 'the', 'sleeves', 'of', 'his', 'long', 'pin-striped', 'cloak', ',', 'a', 'lime-green', 'bowler', 'hat', 'in', 'his', 'hand', '.']), ('d', ['``', 'Ah', '...', 'Prime', 'Minister', ',', \"''\"]), ('n', ['said', 'Cornelius', 'Fudge', ',', 'striding', 'forward', 'with', 'his', 'hand', 'outstretched', '.']), ('d', ['``', 'Good', 'to', 'see', 'you', 'again', '.', \"''\"]), ('n', ['The', 'Prime', 'Minister', 'could', 'not', 'honestly', 'return', 'this', 'compliment', ',', 'so', 'said', 'nothing', 'at', 'all', '.', 'He', 'was', 'not', 'remotely', 'pleased', 'to', 'see', 'Fudge', ',', 'whose', 'occasional', 'appearances', ',', 'apart', 'from', 'being', 'downright', 'alarming', 'in', 'themselves', ',', 'generally', 'meant', 'that', 'he', 'was', 'about', 'to', 'hear', 'some', 'very', 'bad', 'news', '.', 'Furthermore', ',', 'Fudge', 'was', 'looking', 'distinctly', 'careworn', '.', 'He', 'was', 'thinner', ',', 'balder', ',', 'and', 'grayer', ',', 'and', 'his', 'face', 'had', 'a', 'crumpled', 'look', '.', 'The', 'Prime', 'Minister', 'had', 'seen', 'that', 'kind', 'of', 'look', 'in', 'politicians', 'before', ',', 'and', 'it', 'never', 'boded', 'well', '.']), ('d', ['``', 'How', 'can', 'I', 'help', 'you', '?', \"''\"]), ('n', ['he', 'said', ',', 'shaking', 'Fudge', \"'s\", 'hand', 'very', 'briefly', 'and', 'gesturing', 'toward', 'the', 'hardest', 'of', 'the', 'chairs', 'in', 'front', 'of', 'the', 'desk', '.']), ('d', ['``', 'Difficult', 'to', 'know', 'where', 'to', 'begin', ',', \"''\"]), ('n', ['muttered', 'Fudge', ',', 'pulling', 'up', 'the', 'chair', ',', 'sitting', 'down', ',', 'and', 'placing', 'his', 'green', 'bowler', 'upon', 'his', 'knees', '.']), ('d', ['``', 'What', 'a', 'week', ',', 'what', 'a', 'week', '...', \"''\"]), ('n', [\"''\", 'Had', 'a', 'bad', 'one', 'too', ',', 'have', 'you', '?', \"''\", 'asked', 'the', 'Prime', 'Minister', 'stiffly', ',', 'hoping', 'to', 'convey', 'by', 'this', 'that', 'he', 'had', 'quite', 'enough', 'on', 'his', 'plate', 'already', 'without', 'any', 'extra', 'helpings', 'from', 'Fudge', '.']), ('d', ['``', 'Yes', ',', 'of', 'course', ',', \"''\"]), ('n', ['said', 'Fudge', ',', 'rubbing', 'his', 'eyes', 'wearily', 'and', 'looking', 'morosely', 'at', 'the', 'Prime', 'Minister', '.']), ('d', ['``', 'I', \"'ve\", 'been', 'having', 'the', 'same', 'week', 'you', 'have', ',', 'Prime', 'Minister', '.', 'The', 'Brockdale', 'Bridge', '...', 'the', 'Bones', 'and', 'Vance', 'murders', '...', 'not', 'to', 'mention', 'the', 'ruckus', 'in', 'the', 'West', 'Country', '...', \"''\"]), ('n', [\"''\", 'You', '--', 'er', '--', 'your', '--', 'I', 'mean', 'to', 'say', ',', 'some', 'of', 'your', 'people', 'were', '--', 'were', 'involved', 'in', 'those', '--', 'those', 'things', ',', 'were', 'they', '?', \"''\", 'Fudge', 'fixed', 'the', 'Prime', 'Minister', 'with', 'a', 'rather', 'stern', 'look', '.']), ('d', ['``', 'Of', 'course', 'they', 'were', ',', \"''\"]), ('n', ['he', 'said', ',']), ('d', ['``', 'Surely', 'you', \"'ve\", 'realized', 'what', \"'s\", 'going', 'on', '?', \"''\"]), ('n', []), ('d', ['``', 'I', '...', \"''\"]), ('n', ['hesitated', 'the', 'Prime', 'Minister', '.', 'It', 'was', 'precisely', 'this', 'sort', 'of', 'behavior', 'that', 'made', 'him', 'dislike', 'Fudge', \"'s\", 'visits', 'so', 'much', '.', 'He', 'was', ',', 'after', 'all', ',', 'the', 'Prime', 'Minister', 'and', 'did', 'not', 'appreciate', 'being', 'made', 'to', 'feel', 'like', 'an', 'ignorant', 'schoolboy', '.', 'But', 'of', 'course', ',', 'it', 'had', 'been', 'like', 'this', 'from', 'his', 'very', 'first', 'meeting', 'with', 'Fudge', 'on', 'his', 'very', 'first', 'evening', 'as', 'Prime', 'Minister', '.', 'He', 'remembered', 'it', 'as', 'though', 'it', 'were', 'yesterday', 'and', 'knew', 'it', 'would', 'haunt', 'him', 'until', 'his', 'dying', 'day', '.', 'He', 'had', 'been', 'standing', 'alone', 'in', 'this', 'very', 'office', ',', 'savoring', 'the', 'triumph', 'that', 'was', 'his', 'after', 'so', 'many', 'years', 'of', 'dreaming', 'and', 'scheming', ',', 'when', 'he', 'had', 'heard', 'a', 'cough', 'behind', 'him', ',', 'just', 'like', 'tonight', ',', 'and', 'turned', 'to', 'find', 'that', 'ugly', 'little', 'portrait', 'talking', 'to', 'him', ',', 'announcing', 'that', 'the', 'Minister', 'of', 'Magic', 'was', 'about', 'to', 'arrive', 'and', 'introduce', 'himself', 'Naturally', ',', 'he', 'had', 'thought', 'that', 'the', 'long', 'campaign', 'and', 'the', 'strain', 'of', 'the', 'election', 'had', 'caused', 'him', 'to', 'go', 'mad', '.', 'He', 'had', 'been', 'utterly', 'terrified', 'to', 'find', 'a', 'portrait', 'talking', 'to', 'him', ',', 'though', 'this', 'had', 'been', 'nothing', 'to', 'how', 'he', 'felt', 'when', 'a', 'self-proclaimed', 'wizard', 'had', 'bounced', 'out', 'of', 'the', 'fireplace', 'and', 'shaken', 'his', 'hand', '.', 'He', 'had', 'remained', 'speechless', 'throughout', 'Fudge', \"'s\", 'kindly', 'explanation', 'that', 'there', 'were', 'witches', 'and', 'wizards', 'still', 'living', 'in', 'secret', 'all', 'over', 'the', 'world', 'and', 'his', 'reassurances', 'that', 'he', 'was', 'not', 'to', 'bother', 'his', 'head', 'about', 'them', 'as', 'the', 'Ministry', 'of', 'Magic', 'took', 'responsibility', 'for', 'the', 'whole', 'Wizarding', 'community', 'and', 'prevented', 'the', 'non-magical', 'population', 'from', 'getting', 'wind', 'of', 'them', '.', 'It', 'was', ',', 'said', 'Fudge', ',', 'a', 'difficult', 'job', 'that', 'encompassed', 'everything', 'from', 'regulations', 'on', 'responsible', 'use', 'of', 'broomsticks', 'to', 'keeping', 'the', 'dragon', 'population', 'under', 'control', '(', 'the', 'Prime', 'Minister', 'remembered', 'clutching', 'the', 'desk', 'for', 'support', 'at', 'this', 'point', ')', '.', 'Fudge', 'had', 'then', 'patted', 'the', 'shoulder', 'of', 'the', 'still-dumbstruck', 'Prime', 'Minister', 'in', 'a', 'fatherly', 'sort', 'of', 'way', '.']), ('d', ['``', 'Not', 'to', 'worry', ',', \"''\"]), ('n', ['he', 'had', 'said', ',']), ('d', ['``', 'it', \"'s\", 'odds-on', 'you', \"'ll\", 'never', 'see', 'me', 'again', '.', 'I', \"'ll\", 'only', 'bother', 'you', 'if', 'there', \"'s\", 'something', 'really', 'serious', 'going', 'on', 'our', 'end', ',', 'something', 'that', \"'s\", 'likely', 'to', 'affect', 'the', 'Muggles', '--', 'the', 'non-magical', 'population', ',', 'I', 'should', 'say', '.', 'Otherwise', ',', 'it', \"'s\", 'live', 'and', 'let', 'live', '.', 'And', 'I', 'must', 'say', ',', 'you', \"'re\", 'taking', 'it', 'a', 'lot', 'better', 'than', 'your', 'predecessor', '.', 'He', 'tried', 'to', 'throw', 'me', 'out', 'the', 'window', ',', 'thought', 'I', 'was', 'a', 'hoax', 'planned', 'by', 'the', 'opposition', '.', \"''\"]), ('n', ['At', 'this', ',', 'the', 'Prime', 'Minister', 'had', 'found', 'his', 'voice', 'at', 'last', '.']), ('d', ['``', 'You', \"'re\", '--', 'you', \"'re\", 'not', 'a', 'hoax', ',', 'then', '?', \"''\"]), ('n', ['It', 'had', 'been', 'his', 'last', ',', 'desperate', 'hope', '.']), ('d', ['``', 'No', ',', \"''\"]), ('n', ['said', 'Fudge', 'gently', '.']), ('d', ['``', 'No', ',', 'I', \"'m\", 'afraid', 'I', \"'m\", 'not', '.', 'Look', '.', \"''\"]), ('n', ['And', 'he', 'had', 'turned', 'the', 'Prime', 'Minister', \"'s\", 'teacup', 'into', 'a', 'gerbil', '.']), ('d', ['``', 'But', ',', \"''\"]), ('n', ['said', 'the', 'Prime', 'Minister', 'breathlessly', ',', 'watching', 'his', 'teacup', 'chewing', 'on', 'the', 'corner', 'of', 'his', 'next', 'speech', ',']), ('d', ['``', 'but', 'why', '--', 'why', 'has', 'nobody', 'told', 'me', '--', '?', \"''\"]), ('n', []), ('d', ['``', 'The', 'Minister', 'of', 'Magic', 'only', 'reveals', 'him', '--', 'or', 'herself', 'to', 'the', 'Muggle', 'Prime', 'Minister', 'of', 'the', 'day', ',', \"''\"]), ('n', ['said', 'Fudge', ',', 'poking', 'his', 'wand', 'back', 'inside', 'his', 'jacket', '.']), ('d', ['``', 'We', 'find', 'it', 'the', 'best', 'way', 'to', 'maintain', 'secrecy', '.', \"''\"]), ('n', []), ('d', ['``', 'But', 'then', ',', \"''\"]), ('n', ['bleated', 'the', 'Prime', 'Minister', ',']), ('d', ['``', 'why', 'has', \"n't\", 'a', 'former', 'Prime', 'Minister', 'warned', 'me', '--', '?', \"''\"]), ('n', ['At', 'this', ',', 'Fudge', 'had', 'actually', 'laughed', '.']), ('d', ['``', 'My', 'dear', 'Prime', 'Minister', ',', 'are', 'you', 'ever', 'going', 'to', 'tell', 'anybody', '?', \"''\"]), ('n', ['Still', 'chortling', ',', 'Fudge', 'had', 'thrown', 'some', 'powder', 'into', 'the', 'fireplace', ',', 'stepped', 'into', 'the', 'emerald', 'flames', ',', 'and', 'vanished', 'with', 'a', 'whooshing', 'sound', '.', 'The', 'Prime', 'Minister', 'had', 'stood', 'there', ',', 'quite', 'motionless', ',', 'and', 'realized', 'that', 'he', 'would', 'never', ',', 'as', 'long', 'as', 'he', 'lived', ',', 'dare', 'mention', 'this', 'encounter', 'to', 'a', 'living', 'soul', ',', 'for', 'who', 'in', 'the', 'wide', 'world', 'would', 'believe', 'him', '?', 'The', 'shock', 'had', 'taken', 'a', 'little', 'while', 'to', 'wear', 'off', '.', 'For', 'a', 'time', ',', 'he', 'had', 'tried', 'to', 'convince', 'himself', 'that', 'Fudge', 'had', 'indeed', 'been', 'a', 'hallucination', 'brought', 'on', 'by', 'lack', 'of', 'sleep', 'during', 'his', 'grueling', 'election', 'campaign', '.', 'In', 'a', 'vain', 'attempt', 'to', 'rid', 'himself', 'of', 'all', 'reminders', 'of', 'this', 'uncomfortable', 'encounter', ',', 'he', 'had', 'given', 'the', 'gerbil', 'to', 'his', 'delighted', 'niece', 'and', 'instructed', 'his', 'private', 'secretary', 'to', 'take', 'down', 'the', 'portrait', 'of', 'the', 'ugly', 'little', 'man', 'who', 'had', 'announced', 'Fudge', \"'s\", 'arrival', '.', 'To', 'the', 'Prime', 'Minister', \"'s\", 'dismay', ',', 'however', ',', 'the', 'portrait', 'had', 'proved', 'impossible', 'to', 'remove', '.', 'When', 'several', 'carpenters', ',', 'a', 'builder', 'or', 'two', ',', 'an', 'art', 'historian', ',', 'and', 'the', 'Chancellor', 'of', 'the', 'Exchequer', 'had', 'all', 'tried', 'unsuccessfully', 'to', 'pry', 'it', 'from', 'the', 'wall', ',', 'the', 'Prime', 'Minister', 'had', 'abandoned', 'the', 'attempt', 'and', 'simply', 'resolved', 'to', 'hope', 'that', 'the', 'thing', 'remained', 'motionless', 'and', 'silent', 'for', 'the', 'rest', 'of', 'his', 'term', 'in', 'office', '.', 'Occasionally', 'he', 'could', 'have', 'sworn', 'he', 'saw', 'out', 'of', 'the', 'corner', 'of', 'his', 'eye', 'the', 'occupant', 'of', 'the', 'painting', 'yawning', ',', 'or', 'else', 'scratching', 'his', 'nose', ';', 'even', ',', 'once', 'or', 'twice', ',', 'simply', 'walking', 'out', 'of', 'his', 'frame', 'and', 'leaving', 'nothing', 'but', 'a', 'stretch', 'of', 'muddy-brown', 'canvas', 'behind', '.', 'However', ',', 'he', 'had', 'trained', 'himself', 'not', 'to', 'look', 'at', 'the', 'picture', 'very', 'much', ',', 'and', 'always', 'to', 'tell', 'himself', 'firmly', 'that', 'his', 'eyes', 'were', 'playing', 'tricks', 'on', 'him', 'when', 'anything', 'like', 'this', 'happened', '.', 'Then', ',', 'three', 'years', 'ago', ',', 'on', 'a', 'night', 'very', 'like', 'tonight', ',', 'the', 'Prime', 'Minister', 'had', 'been', 'alone', 'in', 'his', 'office', 'when', 'the', 'portrait', 'had', 'once', 'again', 'announced', 'the', 'imminent', 'arrival', 'of', 'Fudge', ',', 'who', 'had', 'burst', 'out', 'of', 'the', 'fireplace', ',', 'sopping', 'wet', 'and', 'in', 'a', 'state', 'of', 'considerable', 'panic', '.', 'Before', 'the', 'Prime', 'Minister', 'could', 'ask', 'why', 'he', 'was', 'dripping', 'all', 'over', 'the', 'Axminster', ',', 'Fudge', 'had', 'started', 'ranting', 'about', 'a', 'prison', 'the', 'Prime', 'Minister', 'had', 'never', 'heard', 'of', ',', 'a', 'man', 'named']), ('d', ['``', 'Serious', \"''\"]), ('n', ['Black', ',', 'something', 'that', 'sounded', 'like']), ('d', ['``', 'Hogwarts', ',', \"''\"]), ('n', ['and', 'a', 'boy', 'called', 'Harry', 'Potter', ',', 'none', 'of', 'which', 'made', 'the', 'remotest', 'sense', 'to', 'the', 'Prime', 'Minister', '.']), ('d', ['``', '...', 'I', \"'ve\", 'just', 'come', 'from', 'Azkaban', ',', \"''\"]), ('n', ['Fudge', 'had', 'panted', ',', 'tipping', 'a', 'large', 'amount', 'of', 'water', 'out', 'of', 'the', 'rim', 'of', 'his', 'bowler', 'hat', 'into', 'his', 'pocket', '.']), ('d', ['``', 'Middle', 'of', 'the', 'North', 'Sea', ',', 'you', 'know', ',', 'nasty', 'flight', '...', 'the', 'dementors', 'are', 'in', 'uproar', \"''\"]), ('n', ['--', 'he', 'shuddered', '--', \"''\", 'they', \"'ve\", 'never', 'had', 'a', 'breakout', 'before', '.', 'Anyway', ',', 'I', 'had', 'to', 'come', 'to', 'you', ',', 'Prime', 'Minister', '.', 'Black', \"'s\", 'a', 'known', 'Muggle', 'killer', 'and', 'may', 'be', 'planning', 'to', 'rejoin', 'You-Know-Who', '...', 'But', 'of', 'course', ',', 'you', 'do', \"n't\", 'even', 'know', 'who', 'You-Know-Who', 'is', '!', \"''\", 'He', 'had', 'gazed', 'hopelessly', 'at', 'the', 'Prime', 'Minister', 'for', 'a', 'moment', ',', 'then', 'said', ',']), ('d', ['``', 'Well', ',', 'sit', 'down', ',', 'sit', 'down', ',', 'I', \"'d\", 'better', 'fill', 'you', 'in', '...', 'Have', 'a', 'whiskey', '...', \"''\"]), ('n', ['The', 'Prime', 'Minister', 'rather', 'resented', 'being', 'told', 'to', 'sit', 'down', 'in', 'his', 'own', 'office', ',', 'let', 'alone', 'offered', 'his', 'own', 'whiskey', ',', 'but', 'he', 'sat', 'nevertheless', '.', 'Fudge', 'pulled', 'out', 'his', 'wand', ',', 'conjured', 'two', 'large', 'glasses', 'full', 'of', 'amber', 'liquid', 'out', 'of', 'thin', 'air', ',', 'pushed', 'one', 'of', 'them', 'into', 'the', 'Prime', 'Minister', \"'s\", 'hand', ',', 'and', 'drew', 'up', 'a', 'chair', '.', 'Fudge', 'had', 'talked', 'for', 'more', 'than', 'an', 'hour', '.', 'At', 'one', 'point', ',', 'he', 'had', 'refused', 'to', 'say', 'a', 'certain', 'name', 'aloud', 'and', 'wrote', 'it', 'instead', 'on', 'a', 'piece', 'of', 'parchment', ',', 'which', 'he', 'had', 'thrust', 'into', 'the', 'Prime', 'Minister', \"'s\", 'whiskey-free', 'hand', '.', 'When', 'at', 'last', 'Fudge', 'had', 'stood', 'up', 'to', 'leave', ',', 'the', 'Prime', 'Minister', 'had', 'stood', 'up', 'too', '.']), ('d', ['``', 'So', 'you', 'think', 'that', '...', \"''\"]), ('n', ['He', 'had', 'squinted', 'down', 'at', 'the', 'name', 'in', 'his', 'left', 'hand', '.']), ('d', ['``', 'Lord', 'Vol', '--', \"''\"]), ('n', [\"''\", 'He-Who-Must-Not-Be-Named', '!', \"''\", 'snarled', 'Fudge', '.']), ('d', ['``', 'I', \"'m\", 'sorry', '...', 'You', 'think', 'that', 'He-Who-Must-Not-Be-Named', 'is', 'still', 'alive', ',', 'then', '?', \"''\"]), ('n', []), ('d', ['``', 'Well', ',', 'Dumbledore', 'says', 'he', 'is', ',', \"''\"]), ('n', ['said', 'Fudge', ',', 'as', 'he', 'had', 'fastened', 'his', 'pin-striped', 'cloak', 'under', 'his', 'chin', ',']), ('d', ['``', 'but', 'we', \"'ve\", 'never', 'found', 'him', '.', 'If', 'you', 'ask', 'me', ',', 'he', \"'s\", 'not', 'dangerous', 'unless', 'he', \"'s\", 'got', 'support', ',', 'so', 'it', \"'s\", 'Black', 'we', 'ought', 'to', 'be', 'worrying', 'about', '.', 'You', \"'ll\", 'put', 'out', 'that', 'warning', ',', 'then', '?', 'Excellent', '.', 'Well', ',', 'I', 'hope', 'we', 'do', \"n't\", 'see', 'each', 'other', 'again', ',', 'Prime', 'Minister', '!', 'Good', 'night', '.', \"''\"]), ('n', ['But', 'they', 'had', 'seen', 'each', 'other', 'again', '.', 'Less', 'than', 'a', 'year', 'later', 'a', 'harassed-looking', 'Fudge', 'had', 'appeared', 'out', 'of', 'thin', 'air', 'in', 'the', 'cabinet', 'room', 'to', 'inform', 'the', 'Prime', 'Minister', 'that', 'there', 'had', 'been', 'a', 'spot', 'of', 'bother', 'at', 'the', 'Kwidditch', '(', 'or', 'that', 'was', 'what', 'it', 'had', 'sounded', 'like', ')', 'World', 'Cup', 'and', 'that', 'several', 'Muggles', 'had', 'been']), ('d', ['``', 'involved', ',', \"''\"]), ('n', ['but', 'that', 'the', 'Prime', 'Minister', 'was', 'not', 'to', 'worry', ',', 'the', 'fact', 'that', 'You-Know-Who', \"'s\", 'Mark', 'had', 'been', 'seen', 'again', 'meant', 'nothing', ';', 'Fudge', 'was', 'sure', 'it', 'was', 'an', 'isolated', 'incident', ',', 'and', 'the', 'Muggle', 'Liaison', 'Office', 'was', 'dealing', 'with', 'all', 'memory', 'modifications', 'as', 'they', 'spoke', '.']), ('d', ['``', 'Oh', ',', 'and', 'I', 'almost', 'forgot', ',', \"''\"]), ('n', ['Fudge', 'had', 'added', '.']), ('d', ['``', 'We', \"'re\", 'importing', 'three', 'foreign', 'dragons', 'and', 'a', 'sphinx', 'for', 'the', 'Triwizard', 'Tournament', ',', 'quite', 'routine', ',', 'but', 'the', 'Department', 'for', 'the', 'Regulation', 'and', 'Control', 'of', 'Magical', 'Creatures', 'tells', 'me', 'that', 'it', '’', 's', 'down', 'in', 'the', 'rule', 'book', 'that', 'we', 'have', 'to', 'notify', 'you', 'if', 'we', \"'re\", 'bringing', 'highly', 'dangerous', 'creatures', 'into', 'the', 'country', '.', \"''\"]), ('n', []), ('d', ['``', 'I', '--', 'what', '--', 'dragons', '?', \"''\"]), ('n', ['spluttered', 'the', 'Prime', 'Minister', '.']), ('d', ['``', 'Yes', ',', 'three', ',', \"''\"]), ('n', ['said', 'Fudge', '.']), ('d', ['``', 'And', 'a', 'sphinx', '.', 'Well', ',', 'good', 'day', 'to', 'you', '.', \"''\"]), ('n', ['The', 'Prime', 'Minister', 'had', 'hoped', 'beyond', 'hope', 'that', 'dragons', 'and', 'sphinxes', 'would', 'be', 'the', 'worst', 'of', 'it', ',', 'but', 'no', '.', 'Less', 'than', 'two', 'years', 'later', ',', 'Fudge', 'had', 'erupted', 'out', 'of', 'the', 'fire', 'yet', 'again', ',', 'this', 'time', 'with', 'the', 'news', 'that', 'there', 'had', 'been', 'a', 'mass', 'breakout', 'from', 'Azkaban', '.']), ('d', ['``', 'A', 'mass', 'breakout', '?', \"''\"]), ('n', ['repeated', 'the', 'Prime', 'Minister', 'hoarsely', '.']), ('d', ['``', 'No', 'need', 'to', 'worry', ',', 'no', 'need', 'to', 'worry', '!', \"''\"]), ('n', ['shouted', 'Fudge', ',', 'already', 'with', 'one', 'foot', 'in', 'the', 'flames', '.']), ('d', ['``', 'We', \"'ll\", 'have', 'them', 'rounded', 'up', 'in', 'no', 'time', '--', 'just', 'thought', 'you', 'ought', 'to', 'know', '!', \"''\"]), ('n', ['And', 'before', 'the', 'Prime', 'Minister', 'could', 'shout', ',']), ('d', ['``', 'Now', ',', 'wait', 'just', 'one', 'moment', '!', \"''\"]), ('n', ['Fudge', 'had', 'vanished', 'in', 'a', 'shower', 'of', 'green', 'sparks', '.', 'Whatever', 'the', 'press', 'and', 'the', 'opposition', 'might', 'say', ',', 'the', 'Prime', 'Minister', 'was', 'not', 'a', 'foolish', 'man', '.', 'It', 'had', 'not', 'escaped', 'his', 'notice', 'that', ',', 'despite', 'Fudge', \"'s\", 'assurances', 'at', 'their', 'first', 'meeting', ',', 'they', 'were', 'now', 'seeing', 'rather', 'a', 'lot', 'of', 'each', 'other', ',', 'nor', 'that', 'Fudge', 'was', 'becoming', 'more', 'flustered', 'with', 'each', 'visit', '.', 'Little', 'though', 'he', 'liked', 'to', 'think', 'about', 'the', 'Minister', 'of', 'Magic', '(', 'or', ',', 'as', 'he', 'always', 'called', 'Fudge', 'in', 'his', 'head', ',', 'the', 'Other', 'Minister', ')', ',', 'the', 'Prime', 'Minister', 'could', 'not', 'help', 'but', 'fear', 'that', 'the', 'next', 'time', 'Fudge', 'appeared', 'it', 'would', 'be', 'with', 'graver', 'news', 'still', '.', 'The', 'site', ',', 'therefore', ',', 'of', 'Fudge', 'stepping', 'out', 'of', 'the', 'fire', 'once', 'more', ',', 'looking', 'disheveled', 'and', 'fretful', 'and', 'sternly', 'surprised', 'that', 'the', 'Prime', 'Minister', 'did', 'not', 'know', 'exactly', 'why', 'he', 'was', 'there', ',', 'was', 'about', 'the', 'worst', 'thing', 'that', 'had', 'happened', 'in', 'the', 'course', 'of', 'this', 'extremely', 'gloomy', 'week', '.']), ('d', ['``', 'How', 'should', 'I', 'know', 'what', \"'s\", 'going', 'on', 'in', 'the', '--', 'er', '--', 'Wizarding', 'community', '?', \"''\"]), ('n', ['snapped', 'the', 'Prime', 'Minister', 'now', '.']), ('d', ['``', 'I', 'have', 'a', 'country', 'to', 'run', 'and', 'quite', 'enough', 'concerns', 'at', 'the', 'moment', 'without', '--', \"''\"]), ('n', [\"''\", 'We', 'have', 'the', 'same', 'concerns', ',', \"''\", 'Fudge', 'interrupted', '.']), ('d', ['``', 'The', 'Brock-dale', 'Bridge', 'did', \"n't\", 'wear', 'out', '.', 'That', 'was', \"n't\", 'really', 'a', 'hurricane', '.', 'Those', 'murders', 'were', 'not', 'the', 'work', 'of', 'Muggles', '.', 'And', 'Herbert', 'Chorley', \"'s\", 'family', 'would', 'be', 'safer', 'without', 'him', '.', 'We', 'are', 'currently', 'making', 'arrangements', 'to', 'have', 'him', 'transferred', 'to', 'St.', 'Mungo', \"'s\", 'Hospital', 'for', 'Magical', 'Maladies', 'and', 'Injuries', '.', 'The', 'move', 'should', 'be', 'affected', 'tonight', '.', \"''\"]), ('n', []), ('d', ['``', 'What', 'do', 'you', '...', 'I', \"'m\", 'afraid', 'I', '...', 'What', '?', \"''\"]), ('n', ['blustered', 'the', 'Prime', 'Minister', '.', 'Fudge', 'took', 'a', 'great', ',', 'deep', 'breath', 'and', 'said', ',']), ('d', ['``', 'Prime', 'Minister', ',', 'I', 'am', 'very', 'sorry', 'to', 'have', 'to', 'tell', 'you', 'that', 'he', \"'s\", 'back', '.', 'He-Who-Must-Not-Be-Named', 'is', 'back', '.', \"''\"]), ('n', []), ('d', ['``', 'Back', '?', 'When', 'you', 'say', \"'back\", \"'\", '...', 'he', \"'s\", 'alive', '?', 'I', 'mean', '--', \"''\"]), ('n', ['The', 'Prime', 'Minister', 'groped', 'in', 'his', 'memory', 'for', 'the', 'details', 'of', 'that', 'horrible', 'conversation', 'of', 'three', 'years', 'previously', ',', 'when', 'Fudge', 'had', 'told', 'him', 'about', 'the', 'wizard', 'who', 'was', 'feared', 'above', 'all', 'others', ',', 'the', 'wizard', 'who', 'had', 'committed', 'a', 'thousand', 'terrible', 'crimes', 'before', 'his', 'mysterious', 'disappearance', 'fifteen', 'years', 'earlier', '.']), ('d', ['``', 'Yes', ',', 'alive', ',', \"''\"]), ('n', ['said', 'Fudge', '.']), ('d', ['``', 'That', 'is', '--', 'I', 'do', \"n't\", 'know', '--', 'is', 'a', 'man', 'alive', 'if', 'he', 'ca', \"n't\", 'be', 'killed', '?', 'I', 'do', \"n't\", 'really', 'understand', 'it', ',', 'and', 'Dumbledore', 'wo', \"n't\", 'explain', 'properly', '--', 'but', 'anyway', ',', 'he', \"'s\", 'certainly', 'got', 'a', 'body', 'and', 'is', 'walking', 'and', 'talking', 'and', 'killing', ',', 'so', 'I', 'suppose', ',', 'for', 'the', 'purposes', 'of', 'our', 'discussion', ',', 'yes', ',', 'he', \"'s\", 'alive', '.', \"''\"]), ('n', ['The', 'Prime', 'Minister', 'did', 'not', 'know', 'what', 'to', 'say', 'to', 'this', ',', 'but', 'a', 'persistent', 'habit', 'of', 'wishing', 'to', 'appear', 'well-informed', 'on', 'any', 'subject', 'that', 'came', 'up', 'made', 'him', 'cast', 'around', 'for', 'any', 'details', 'he', 'could', 'remember', 'of', 'their', 'previous', 'conversations', '.']), ('d', ['``', 'Is', 'Serious', 'Black', 'with', '--', 'er', '--', 'He-Who-Must-Not-Be-Named', '?', \"''\"]), ('n', []), ('d', ['``', 'Black', '?', 'Black', '?', \"''\"]), ('n', ['said', 'Fudge', 'distractedly', ',', 'turning', 'his', 'bowler', 'rapidly', 'in', 'his', 'fingers', '.']), ('d', ['``', 'Sirius', 'Black', ',', 'you', 'mean', '?', 'Merlin', \"'s\", 'beard', ',', 'no', '.', 'Black', \"'s\", 'dead', '.', 'Turns', 'out', 'we', 'were', '--', 'er', '--', 'mistaken', 'about', 'Black', '.', 'He', 'was', 'innocent', 'after', 'all', '.', 'And', 'he', 'was', \"n't\", 'in', 'league', 'with', 'He-Who-Must-Not-Be-Named', 'either', '.', 'I', 'mean', ',', \"''\"]), ('n', ['he', 'added', 'defensively', ',', 'spinning', 'the', 'bowler', 'hat', 'still', 'faster', ',']), ('d', ['``', 'all', 'the', 'evidence', 'pointed', '--', 'we', 'had', 'more', 'than', 'fifty', 'eyewitnesses', '--', 'but', 'anyway', ',', 'as', 'I', 'say', ',', 'he', \"'s\", 'dead', '.', 'Murdered', ',', 'as', 'a', 'matter', 'of', 'fact', '.', 'On', 'Ministry', 'of', 'Magic', 'premises', '.', 'There', \"'s\", 'going', 'to', 'be', 'an', 'inquiry', ',', 'actually', '...', \"''\"]), ('n', ['To', 'his', 'great', 'surprise', ',', 'the', 'Prime', 'Minister', 'felt', 'a', 'fleeting', 'stab', 'of', 'pity', 'for', 'Fudge', 'at', 'this', 'point', '.', 'It', 'was', ',', 'however', ',', 'eclipsed', 'almost', 'immediately', 'by', 'a', 'glow', 'of', 'smugness', 'at', 'the', 'thought', 'that', ',', 'deficient', 'though', 'he', 'himself', 'might', 'be', 'in', 'the', 'area', 'of', 'materializing', 'out', 'of', 'fireplaces', ',', 'there', 'had', 'never', 'been', 'a', 'murder', 'in', 'any', 'of', 'the', 'government', 'departments', 'under', 'his', 'charge', '...', 'Not', 'yet', ',', 'anyway', '...', 'While', 'the', 'Prime', 'Minister', 'surreptitiously', 'touched', 'the', 'wood', 'of', 'his', 'desk', ',', 'Fudge', 'continued', ',']), ('d', ['``', 'But', 'Blacks', 'by-the-by', 'now', '.', 'The', 'point', 'is', ',', 'we', \"'re\", 'at', 'war', ',', 'Prime', 'Minister', ',', 'and', 'steps', 'must', 'be', 'taken', '.', \"''\"]), ('n', []), ('d', ['``', 'At', 'war', '?', \"''\"]), ('n', ['repeated', 'the', 'Prime', 'Minister', 'nervously', '.']), ('d', ['``', 'Surely', 'that', \"'s\", 'a', 'little', 'bit', 'of', 'an', 'overstatement', '?', \"''\"]), ('n', []), ('d', ['``', 'He-Who-Must-Not-Be-Named', 'has', 'now', 'been', 'joined', 'by', 'those', 'of', 'his', 'followers', 'who', 'broke', 'out', 'of', 'Azkaban', 'in', 'January', ',', \"''\"]), ('n', ['said', 'Fudge', ',', 'speaking', 'more', 'and', 'more', 'rapidly', 'and', 'twirling', 'his', 'bowler', 'so', 'fast', 'that', 'it', 'was', 'a', 'lime-green', 'blur', '.']), ('d', ['``', 'Since', 'they', 'have', 'moved', 'into', 'the', 'open', ',', 'they', 'have', 'been', 'wreaking', 'havoc', '.', 'The', 'Brockdale', 'Bridge', '--', 'he', 'did', 'it', ',', 'Prime', 'Minister', ',', 'he', 'threatened', 'a', 'mass', 'Muggle', 'killing', 'unless', 'I', 'stood', 'aside', 'for', 'him', 'and', '--', \"''\"]), ('n', [\"''\", 'Good', 'grief', ',', 'so', 'it', \"'s\", 'your', 'fault', 'those', 'people', 'were', 'killed', 'and', 'I', \"'m\", 'having', 'to', 'answer', 'questions', 'about', 'rusted', 'rigging', 'and', 'corroded', 'expansion', 'joints', 'and', 'I', 'do', \"n't\", 'know', 'what', 'else', '!', \"''\", 'said', 'the', 'Prime', 'Minister', 'furiously', '.']), ('d', ['``', 'My', 'fault', '!', \"''\"]), ('n', ['said', 'Fudge', ',', 'coloring', 'up', '.']), ('d', ['``', 'Are', 'you', 'saying', 'you', 'would', 'have', 'caved', 'in', 'to', 'blackmail', 'like', 'that', '?', \"''\"]), ('n', []), ('d', ['``', 'Maybe', 'not', ',', \"''\"]), ('n', ['said', 'the', 'Prime', 'Minister', ',', 'standing', 'up', 'and', 'striding', 'about', 'the', 'room', ',']), ('d', ['``', 'but', 'I', 'would', 'have', 'put', 'all', 'my', 'efforts', 'into', 'catching', 'the', 'blackmailer', 'before', 'he', 'committed', 'any', 'such', 'atrocity', '!', \"''\"]), ('n', []), ('d', ['``', 'Do', 'you', 'really', 'think', 'I', 'was', \"n't\", 'already', 'making', 'every', 'effort', '?', \"''\"]), ('n', ['demanded', 'Fudge', 'heatedly', '.']), ('d', ['``', 'Every', 'Auror', 'in', 'the', 'Ministry', 'was', '--', 'and', 'is', '--', 'trying', 'to', 'find', 'him', 'and', 'round', 'up', 'his', 'followers', ',', 'but', 'we', 'happen', 'to', 'be', 'talking', 'about', 'one', 'of', 'the', 'most', 'powerful', 'wizards', 'of', 'all', 'time', ',', 'a', 'wizard', 'who', 'has', 'eluded', 'capture', 'for', 'almost', 'three', 'decades', '!', \"''\"]), ('n', []), ('d', ['``', 'So', 'I', 'suppose', 'you', \"'re\", 'going', 'to', 'tell', 'me', 'he', 'caused', 'the', 'hurricane', 'in', 'the', 'West', 'Country', 'too', '?', \"''\"]), ('n', ['said', 'the', 'Prime', 'Minister', ',', 'his', 'temper', 'rising', 'with', 'every', 'pace', 'he', 'took', '.', 'It', 'was', 'infuriating', 'to', 'discover', 'the', 'reason', 'for', 'all', 'these', 'terrible', 'disasters', 'and', 'not', 'to', 'be', 'able', 'to', 'tell', 'the', 'public', ',', 'almost', 'worse', 'than', 'it', 'being', 'the', 'government', \"'s\", 'fault', 'after', 'all', '.']), ('d', ['``', 'That', 'was', 'no', 'hurricane', ',', \"''\"]), ('n', ['said', 'Fudge', 'miserably', '.']), ('d', ['``', 'Excuse', 'me', '!', \"''\"]), ('n', ['barked', 'the', 'Prime', 'Minister', ',', 'now', 'positively', 'stamping', 'up', 'and', 'down', '.']), ('d', ['``', 'Trees', 'uprooted', ',', 'roofs', 'ripped', 'off', ',', 'lampposts', 'bent', ',', 'horrible', 'injuries', '--', \"''\"]), ('n', [\"''\", 'It', 'was', 'the', 'Death', 'Eaters', ',', \"''\", 'said', 'Fudge', '.']), ('d', ['``', 'He-Who-Must-Not-Be-Named', \"'s\", 'followers', '.', 'And', '...', 'and', 'we', 'suspect', 'giant', 'involvement', '.', \"''\"]), ('n', ['The', 'Prime', 'Minister', 'stopped', 'in', 'his', 'tracks', 'as', 'though', 'he', 'had', 'hit', 'an', 'invisible', 'wall', '.']), ('d', ['``', 'What', 'involvement', '?', \"''\"]), ('n', ['Fudge', 'grimaced', '.']), ('d', ['``', 'He', 'used', 'giants', 'last', 'time', ',', 'when', 'he', 'wanted', 'to', 'go', 'for', 'the', 'grand', 'effect', ',', \"''\"]), ('n', ['he', 'said', '.']), ('d', ['``', 'The', 'Office', 'of', 'Misinformation', 'has', 'been', 'working', 'around', 'the', 'clock', ',', 'we', \"'ve\", 'had', 'teams', 'of', 'Obliviators', 'out', 'trying', 'to', 'modify', 'the', 'memories', 'of', 'all', 'the', 'Muggles', 'who', 'saw', 'what', 'really', 'happened', ',', 'we', \"'ve\", 'got', 'most', 'of', 'the', 'Department', 'for', 'the', 'Regulation', 'and', 'Control', 'of', 'Magical', 'Creatures', 'running', 'around', 'Somerset', ',', 'but', 'we', 'ca', \"n't\", 'find', 'the', 'giant', '--', 'it', \"'s\", 'been', 'a', 'disaster', '.', \"''\"]), ('n', []), ('d', ['``', 'You', 'do', \"n't\", 'say', '!', \"''\"]), ('n', ['said', 'the', 'Prime', 'Minister', 'furiously', '.']), ('d', ['``', 'I', 'wo', \"n't\", 'deny', 'that', 'morale', 'is', 'pretty', 'low', 'at', 'the', 'Ministry', ',', \"''\"]), ('n', ['said', 'Fudge', '.']), ('d', ['``', 'What', 'with', 'all', 'that', ',', 'and', 'then', 'losing', 'Amelia', 'Bones', '.', \"''\"]), ('n', []), ('d', ['``', 'Losing', 'who', '?', \"''\"]), ('n', []), ('d', ['``', 'Amelia', 'Bones', '.', 'Head', 'of', 'the', 'Department', 'of', 'Magical', 'Law', 'Enforcement', '.', 'We', 'think', 'He-Who-Must-Not-Be-Named', 'may', 'have', 'murdered', 'her', 'in', 'person', ',', 'because', 'she', 'was', 'a', 'very', 'gifted', 'witch', 'and', '--', 'and', 'all', 'the', 'evidence', 'was', 'that', 'she', 'put', 'up', 'a', 'real', 'fight', '.', \"''\"]), ('n', ['Fudge', 'cleared', 'his', 'throat', 'and', ',', 'with', 'an', 'effort', ',', 'it', 'seemed', ',', 'stopped', 'spinning', 'his', 'bowler', 'hat', '.']), ('d', ['``', 'But', 'that', 'murder', 'was', 'in', 'the', 'newspapers', ',', \"''\"]), ('n', ['said', 'the', 'Prime', 'Minister', ',', 'momentarily', 'diverted', 'from', 'his', 'anger', '.']), ('d', ['``', 'Our', 'newspapers', '.', 'Amelia', 'Bones', '...', 'it', 'just', 'said', 'she', 'was', 'a', 'middle-aged', 'woman', 'who', 'lived', 'alone', '.', 'It', 'was', 'a', '--', 'a', 'nasty', 'killing', ',', 'was', \"n't\", 'it', '?', 'It', \"'s\", 'had', 'rather', 'a', 'lot', 'of', 'publicity', '.', 'The', 'police', 'are', 'baffled', ',', 'you', 'see', '.', \"''\"]), ('n', ['Fudge', 'sighed', '.']), ('d', ['``', 'Well', ',', 'of', 'course', 'they', 'are', ',', \"''\"]), ('n', ['he', 'said', '.']), ('d', ['``', 'Killed', 'in', 'a', 'room', 'that', 'was', 'locked', 'from', 'the', 'inside', ',', 'was', \"n't\", 'she', '?', 'We', ',', 'on', 'the', 'other', 'hand', ',', 'know', 'exactly', 'who', 'did', 'it', ',', 'not', 'that', 'that', 'gets', 'us', 'any', 'further', 'toward', 'catching', 'him', '.', 'And', 'then', 'there', 'was', 'Emmeline', 'Vance', ',', 'maybe', 'you', 'did', \"n't\", 'hear', 'about', 'that', 'one', '--', \"''\"]), ('n', [\"''\", 'Oh', 'yes', 'I', 'did', '!', \"''\", 'said', 'the', 'Prime', 'Minister', '.']), ('d', ['``', 'It', 'happened', 'just', 'around', 'the', 'corner', 'from', 'here', ',', 'as', 'a', 'matter', 'of', 'fact', '.', 'The', 'papers', 'had', 'a', 'field', 'day', 'with', 'it', ',', \"'breakdown\", 'of', 'law', 'and', 'order', 'in', 'the', 'Prime', 'Minister', \"'s\", 'backyard', '--', \"'\", \"''\"]), ('n', [\"''\", 'And', 'as', 'if', 'all', 'that', 'was', \"n't\", 'enough', ',', \"''\", 'said', 'Fudge', ',', 'barely', 'listening', 'to', 'the', 'Prime', 'Minister', ',']), ('d', ['``', 'we', \"'ve\", 'got', 'dementors', 'swarming', 'all', 'over', 'the', 'place', ',', 'attacking', 'people', 'left', ',', 'right', ',', 'and', 'center', '...', \"''\"]), ('n', ['Once', 'upon', 'a', 'happier', 'time', 'this', 'sentence', 'would', 'have', 'been', 'unintelligible', 'to', 'the', 'Prime', 'Minister', ',', 'but', 'he', 'was', 'wiser', 'now', '.']), ('d', ['``', 'I', 'thought', 'dementors', 'guard', 'the', 'prisoners', 'in', 'Azkaban', ',', \"''\"]), ('n', ['he', 'said', 'cautiously', '.']), ('d', ['``', 'They', 'did', ',', \"''\"]), ('n', ['said', 'Fudge', 'wearily', '.']), ('d', ['``', 'But', 'not', 'anymore', '.', 'They', \"'ve\", 'deserted', 'the', 'prison', 'and', 'joined', 'He-Who-Must-Not-Be-Named', '.', 'I', 'wo', \"n't\", 'pretend', 'that', 'was', \"n't\", 'a', 'blow', '.', \"''\"]), ('n', []), ('d', ['``', 'But', ',', \"''\"]), ('n', ['said', 'the', 'Prime', 'Minister', ',', 'with', 'a', 'sense', 'of', 'dawning', 'horror', ',']), ('d', ['``', 'did', \"n't\", 'you', 'tell', 'me', 'they', \"'re\", 'the', 'creatures', 'that', 'drain', 'hope', 'and', 'happiness', 'out', 'of', 'people', '?', \"''\"]), ('n', []), ('d', ['``', 'That', \"'s\", 'right', '.', 'And', 'they', \"'re\", 'breeding', '.', 'That', \"'s\", 'what', \"'s\", 'causing', 'all', 'this', 'mist', '.', \"''\"]), ('n', ['The', 'Prime', 'Minister', 'sank', ',', 'weak-kneed', ',', 'into', 'the', 'nearest', 'chair', '.', 'The', 'idea', 'of', 'invisible', 'creatures', 'swooping', 'through', 'the', 'towns', 'and', 'countryside', ',', 'spreading', 'despair', 'and', 'hopelessness', 'in', 'his', 'voters', ',', 'made', 'him', 'feel', 'quite', 'faint', '.']), ('d', ['``', 'Now', 'see', 'here', ',', 'Fudge', '--', 'you', \"'ve\", 'got', 'to', 'do', 'something', '!', 'It', \"'s\", 'your', 'responsibility', 'as', 'Minister', 'of', 'Magic', '!', \"''\"]), ('n', []), ('d', ['``', 'My', 'dear', 'Prime', 'Minister', ',', 'you', 'ca', \"n't\", 'honestly', 'think', 'I', \"'m\", 'still', 'Minister', 'of', 'Magic', 'after', 'all', 'this', '?', 'I', 'was', 'sacked', 'three', 'days', 'ago', '!', 'The', 'whole', 'Wizarding', 'community', 'has', 'been', 'screaming', 'for', 'my', 'resignation', 'for', 'a', 'fortnight', '.', 'I', \"'ve\", 'never', 'known', 'them', 'so', 'united', 'in', 'my', 'whole', 'term', 'of', 'office', '!', \"''\"]), ('n', ['said', 'Fudge', ',', 'with', 'a', 'brave', 'attempt', 'at', 'a', 'smile', '.', 'The', 'Prime', 'Minister', 'was', 'momentarily', 'lost', 'for', 'words', '.', 'Despite', 'his', 'indignation', 'at', 'the', 'position', 'into', 'which', 'he', 'had', 'been', 'placed', ',', 'he', 'still', 'rather', 'felt', 'for', 'the', 'shrunken-looking', 'man', 'sitting', 'opposite', 'him', '.']), ('d', ['``', 'I', \"'m\", 'very', 'sorry', ',', \"''\"]), ('n', ['he', 'said', 'finally', '.']), ('d', ['``', 'If', 'there', \"'s\", 'anything', 'I', 'can', 'do', '?', \"''\"]), ('n', []), ('d', ['``', 'It', \"'s\", 'very', 'kind', 'of', 'you', ',', 'Prime', 'Minister', ',', 'but', 'there', 'is', 'nothing', '.', 'I', 'was', 'sent', 'here', 'tonight', 'to', 'bring', 'you', 'up', 'to', 'date', 'on', 'recent', 'events', 'and', 'to', 'introduce', 'you', 'to', 'my', 'successor', '.', 'I', 'rather', 'thought', 'he', \"'d\", 'be', 'here', 'by', 'now', ',', 'but', 'of', 'course', ',', 'he', \"'s\", 'very', 'busy', 'at', 'the', 'moment', ',', 'with', 'so', 'much', 'going', 'on', '.', \"''\"]), ('n', ['Fudge', 'looked', 'around', 'at', 'the', 'portrait', 'of', 'the', 'ugly', 'little', 'man', 'wearing', 'the', 'long', 'curly', 'silver', 'wig', ',', 'who', 'was', 'digging', 'in', 'his', 'ear', 'with', 'the', 'point', 'of', 'a', 'quill', '.', 'Catching', 'Fudge', \"'s\", 'eye', ',', 'the', 'portrait', 'said', ',']), ('d', ['``', 'He', \"'ll\", 'be', 'here', 'in', 'a', 'moment', ',', 'he', \"'s\", 'just', 'finishing', 'a', 'letter', 'to', 'Dumbledore', '.', \"''\"]), ('n', []), ('d', ['``', 'I', 'wish', 'him', 'luck', ',', \"''\"]), ('n', ['said', 'Fudge', ',', 'sounding', 'bitter', 'for', 'the', 'first', 'time', '.']), ('d', ['``', 'I', \"'ve\", 'been', 'writing', 'to', 'Dumbledore', 'twice', 'a', 'day', 'for', 'the', 'past', 'fortnight', ',', 'but', 'he', 'wo', \"n't\", 'budge', '.', 'If', 'he', \"'d\", 'just', 'been', 'prepared', 'to', 'persuade', 'the', 'boy', ',', 'I', 'might', 'still', 'be', '...', 'Well', ',', 'maybe', 'Scrimgeour', 'will', 'have', 'more', 'success', '.', \"''\"]), ('n', ['Fudge', 'subsided', 'into', 'what', 'was', 'clearly', 'an', 'aggrieved', 'silence', ',', 'but', 'it', 'was', 'broken', 'almost', 'immediately', 'by', 'the', 'portrait', ',', 'which', 'suddenly', 'spoke', 'in', 'its', 'crisp', ',', 'official', 'voice', '.']), ('d', ['``', 'To', 'the', 'Prime', 'Minister', 'of', 'Muggles', '.', 'Requesting', 'a', 'meeting', '.', 'Urgent', '.', 'Kindly', 'respond', 'immediately', '.', 'Rufus', 'Scrimgeour', ',', 'Minister', 'of', 'Magic', '.', \"''\"]), ('n', []), ('d', ['``', 'Yes', ',', 'yes', ',', 'fine', ',', \"''\"]), ('n', ['said', 'the', 'Prime', 'Minister', 'distractedly', ',', 'and', 'he', 'barely', 'flinched', 'as', 'the', 'flames', 'in', 'the', 'grate', 'turned', 'emerald', 'green', 'again', ',', 'rose', 'up', ',', 'and', 'revealed', 'a', 'second', 'spinning', 'wizard', 'in', 'their', 'heart', ',', 'disgorging', 'him', 'moments', 'later', 'onto', 'the', 'antique', 'rug', '.', 'Fudge', 'got', 'to', 'his', 'feet', 'and', ',', 'after', 'a', 'moment', \"'s\", 'hesitation', ',', 'the', 'Prime', 'Minister', 'did', 'the', 'same', ',', 'watching', 'the', 'new', 'arrival', 'straighten', 'up', ',', 'dust', 'down', 'his', 'long', 'black', 'robes', ',', 'and', 'look', 'around', '.', 'The', 'Prime', 'Minister', \"'s\", 'first', ',', 'foolish', 'thought', 'was', 'that', 'Rufus', 'Scrimgeour', 'looked', 'rather', 'like', 'an', 'old', 'lion', '.', 'There', 'were', 'streaks', 'of', 'gray', 'in', 'his', 'mane', 'of', 'tawny', 'hair', 'and', 'his', 'bushy', 'eyebrows', ';', 'he', 'had', 'keen', 'yellowish', 'eyes', 'behind', 'a', 'pair', 'of', 'wire-rimmed', 'spectacles', 'and', 'a', 'certain', 'rangy', ',', 'loping', 'grace', 'even', 'though', 'he', 'walked', 'with', 'a', 'slight', 'limp', '.', 'There', 'was', 'an', 'immediate', 'impression', 'of', 'shrewdness', 'and', 'toughness', ';', 'the', 'Prime', 'Minister', 'thought', 'he', 'understood', 'why', 'the', 'Wizarding', 'community', 'preferred', 'Scrimgeour', 'to', 'Fudge', 'as', 'a', 'leader', 'in', 'these', 'dangerous', 'times', '.']), ('d', ['``', 'How', 'do', 'you', 'do', '?', \"''\"]), ('n', ['said', 'the', 'Prime', 'Minister', 'politely', ',', 'holding', 'out', 'his', 'hand', '.', 'Scrimgeour', 'grasped', 'it', 'briefly', ',', 'his', 'eyes', 'scanning', 'the', 'room', ',', 'then', 'pulled', 'out', 'a', 'wand', 'from', 'under', 'his', 'robes', '.']), ('d', ['``', 'Fudge', 'told', 'you', 'everything', '?', \"''\"]), ('n', ['he', 'asked', ',', 'striding', 'over', 'to', 'the', 'door', 'and', 'tapping', 'the', 'keyhole', 'with', 'his', 'wand', '.', 'The', 'Prime', 'Minister', 'heard', 'the', 'lock', 'click', '.']), ('d', ['``', 'Er', '--', 'yes', ',', \"''\"]), ('n', ['said', 'the', 'Prime', 'Minister', '.']), ('d', ['``', 'And', 'if', 'you', 'do', \"n't\", 'mind', ',', 'I', \"'d\", 'rather', 'that', 'door', 'remained', 'unlocked', '.', \"''\"]), ('n', []), ('d', ['``', 'I', \"'d\", 'rather', 'not', 'be', 'interrupted', ',', \"''\"]), ('n', ['said', 'Scrimgeour', 'shortly', ',']), ('d', ['``', 'or', 'watched', ',', \"''\"]), ('n', ['he', 'added', ',', 'pointing', 'his', 'wand', 'at', 'the', 'windows', ',', 'so', 'that', 'the', 'curtains', 'swept', 'across', 'them', '.']), ('d', ['``', 'Right', ',', 'well', ',', 'I', \"'m\", 'a', 'busy', 'man', ',', 'so', 'let', \"'s\", 'get', 'down', 'lo', 'business', '.', 'First', 'of', 'all', ',', 'we', 'need', 'to', 'discuss', 'your', 'security', '.', \"''\"]), ('n', ['The', 'Prime', 'Minister', 'drew', 'himself', 'up', 'to', 'his', 'fullest', 'height', 'and', 'replied', ',']), ('d', ['``', 'I', 'am', 'perfectly', 'happy', 'with', 'the', 'security', 'I', \"'ve\", 'already', 'got', ',', 'thank', 'you', 'very', '--', \"''\"]), ('n', [\"''\", 'Well', ',', 'we', \"'re\", 'not', ',', \"''\", 'Scrimgeour', 'cut', 'in', '.']), ('d', ['``', 'It', \"'ll\", 'be', 'a', 'poor', 'lookout', 'for', 'the', 'Muggles', 'if', 'their', 'Prime', 'Minister', 'gets', 'put', 'under', 'the', 'Imperius', 'Curse', '.', 'The', 'new', 'secretary', 'in', 'your', 'outer', 'office', '--', \"''\"]), ('n', [\"''\", 'I', \"'m\", 'not', 'getting', 'rid', 'of', 'Kingsley', 'Shacklebolt', ',', 'if', 'that', \"'s\", 'what', 'you', \"'re\", 'suggesting', '!', \"''\", 'said', 'the', 'Prime', 'Minister', 'hotly', '.']), ('d', ['``', 'He', \"'s\", 'highly', 'efficient', ',', 'gets', 'through', 'twice', 'the', 'work', 'the', 'rest', 'of', 'them', '--', \"''\"]), ('n', [\"''\", 'That', \"'s\", 'because', 'he', \"'s\", 'a', 'wizard', ',', \"''\", 'said', 'Scrimgeour', ',', 'without', 'a', 'flicker', 'of', 'a', 'smile', '.']), ('d', ['``', 'A', 'highly', 'trained', 'Auror', ',', 'who', 'has', 'been', 'assigned', 'to', 'you', 'for', 'your', 'protection', '.', \"''\"]), ('n', []), ('d', ['``', 'Now', ',', 'wait', 'a', 'moment', '!', \"''\"]), ('n', ['declared', 'the', 'Prime', 'Minister', '.']), ('d', ['``', 'You', 'ca', \"n't\", 'just', 'put', 'your', 'people', 'into', 'my', 'office', ',', 'I', 'decide', 'who', 'works', 'for', 'me', '--', \"''\"]), ('n', [\"''\", 'I', 'thought', 'you', 'were', 'happy', 'with', 'Shacklebolt', '?', \"''\", 'said', 'Scrimgeour', 'coldly', '.']), ('d', ['``', 'I', 'am', '--', 'that', \"'s\", 'to', 'say', ',', 'I', 'was', '--', \"''\"]), ('n', [\"''\", 'Then', 'there', \"'s\", 'no', 'problem', ',', 'is', 'there', '?', \"''\", 'said', 'Scrimgeour', '.']), ('d', ['``', 'I', '...', 'well', ',', 'as', 'long', 'as', 'Shacklebolt', \"'s\", 'work', 'continues', 'to', 'be', '...', 'er', '...', 'excellent', ',', \"''\"]), ('n', ['said', 'the', 'Prime', 'Minister', 'lamely', ',', 'but', 'Scrimgeour', 'barely', 'seemed', 'to', 'hear', 'him', '.']), ('d', ['``', 'Now', ',', 'about', 'Herbert', 'Chorley', ',', 'your', 'Junior', 'Minister', ',', \"''\"]), ('n', ['he', 'continued', '.']), ('d', ['``', 'The', 'one', 'who', 'has', 'been', 'entertaining', 'the', 'public', 'by', 'impersonating', 'a', 'duck', '.', \"''\"]), ('n', []), ('d', ['``', 'What', 'about', 'him', '?', \"''\"]), ('n', ['asked', 'the', 'Prime', 'Minister', '.']), ('d', ['``', 'He', 'has', 'clearly', 'reacted', 'to', 'a', 'poorly', 'performed', 'Imperius', 'Curse', ',', \"''\"]), ('n', ['said', 'Scrimgeour', '.']), ('d', ['``', 'It', \"'s\", 'addled', 'his', 'brains', ',', 'but', 'he', 'could', 'still', 'be', 'dangerous', '.', \"''\"]), ('n', []), ('d', ['``', 'He', \"'s\", 'only', 'quacking', '!', \"''\"]), ('n', ['said', 'the', 'Prime', 'Minister', 'weakly', '.']), ('d', ['``', 'Surely', 'a', 'bit', 'of', 'a', 'rest', '...', 'Maybe', 'go', 'easy', 'on', 'the', 'drink', '...', \"''\"]), ('n', [\"''\", 'A', 'team', 'of', 'Healers', 'from', 'St.', 'Mungo', \"'s\", 'Hospital', 'for', 'Magical', 'Maladies', 'and', 'Injuries', 'are', 'examining', 'him', 'as', 'we', 'speak', '.', 'So', 'far', 'he', 'has', 'attempted', 'to', 'strangle', 'three', 'of', 'them', ',', \"''\", 'said', 'Scrimgeour', '.']), ('d', ['``', 'I', 'think', 'it', 'best', 'that', 'we', 'remove', 'him', 'from', 'Muggle', 'society', 'for', 'a', 'while', '.', \"''\"]), ('n', []), ('d', ['``', 'I', '...', 'well', '...', 'He', \"'ll\", 'be', 'all', 'right', ',', 'wo', \"n't\", 'he', '?', \"''\"]), ('n', ['said', 'the', 'Prime', 'Minister', 'anxiously', '.', 'Scrimgeour', 'merely', 'shrugged', ',', 'already', 'moving', 'back', 'toward', 'the', 'fireplace', '.']), ('d', ['``', 'Well', ',', 'that', \"'s\", 'really', 'all', 'I', 'had', 'to', 'say', '.', 'I', 'will', 'keep', 'you', 'posted', 'of', 'developments', ',', 'Prime', 'Minister', '--', 'or', ',', 'at', 'least', ',', 'I', 'shall', 'probably', 'be', 'too', 'busy', 'to', 'come', 'personally', ',', 'in', 'which', 'case', 'I', 'shall', 'send', 'Fudge', 'here', '.', 'He', 'has', 'consented', 'to', 'stay', 'on', 'in', 'an', 'advisory', 'capacity', '.', \"''\"]), ('n', ['Fudge', 'attempted', 'to', 'smile', ',', 'but', 'was', 'unsuccessful', ';', 'he', 'merely', 'looked', 'as', 'though', 'he', 'had', 'a', 'toothache', '.', 'Scrimgeour', 'was', 'already', 'rummaging', 'in', 'his', 'pocket', 'for', 'the', 'mysterious', 'powder', 'that', 'turned', 'the', 'fire', 'green', '.', 'The', 'Prime', 'Minister', 'gazed', 'hopelessly', 'at', 'the', 'pair', 'of', 'them', 'for', 'a', 'moment', ',', 'then', 'the', 'words', 'he', 'had', 'fought', 'to', 'suppress', 'all', 'evening', 'burst', 'from', 'him', 'at', 'last', '.']), ('d', ['``', 'But', 'for', 'heaven', \"'s\", 'sake', '--', 'you', \"'re\", 'wizards', '!', 'You', 'can', 'do', 'magic', '!', 'Surely', 'you', 'can', 'sort', 'out', '--', 'well', '--', 'anything', '!', \"''\"]), ('n', ['Scrimgeour', 'turned', 'slowly', 'on', 'the', 'spot', 'and', 'exchanged', 'an', 'incredulous', 'look', 'with', 'Fudge', ',', 'who', 'really', 'did', 'manage', 'a', 'smile', 'this', 'time', 'as', 'he', 'said', 'kindly', ',']), ('d', ['``', 'The', 'trouble', 'is', ',', 'the', 'other', 'side', 'can', 'do', 'magic', 'too', ',', 'Prime', 'Minister', '.', \"''\"]), ('n', ['And', 'with', 'that', ',', 'the', 'two', 'wizards', 'stepped', 'one', 'after', 'the', 'other', 'into', 'the', 'bright', 'green', 'fire', 'and', 'vanished', '.', 'Chapter', '2', ':', 'Spinner', \"'s\", 'End', 'Many', 'miles', 'away', 'the', 'chilly', 'mist', 'that', 'had', 'pressed', 'against', 'the', 'Prime', 'Minister', \"'s\", 'windows', 'drifted', 'over', 'a', 'dirty', 'river', 'that', 'wound', 'between', 'overgrown', ',', 'rubbish-strewn', 'banks', '.', 'An', 'immense', 'chimney', ',', 'relic', 'of', 'a', 'disused', 'mill', ',', 'reared', 'up', ',', 'shadowy', 'and', 'ominous', '.', 'There', 'was', 'no', 'sound', 'apart', 'from', 'the', 'whisper', 'of', 'the', 'black', 'water', 'and', 'no', 'sign', 'of', 'life', 'apart', 'from', 'a', 'scrawny', 'fox', 'that', 'had', 'slunk', 'down', 'the', 'bank', 'to', 'nose', 'hopefully', 'at', 'some', 'old', 'fish-and-chip', 'wrappings', 'in', 'the', 'tall', 'grass', '.', 'But', 'then', ',', 'with', 'a', 'very', 'faint', 'pop', ',', 'a', 'slim', ',', 'hooded', 'figure', 'appeared', 'out', 'of', 'thin', 'air', 'on', 'the', 'edge', 'of', 'the', 'river', '.', 'The', 'fox', 'froze', ',', 'wary', 'eyes', 'fixed', 'upon', 'this', 'strange', 'new', 'phenomenon', '.', 'The', 'figure', 'seemed', 'to', 'take', 'its', 'bearings', 'for', 'a', 'few', 'moments', ',', 'then', 'set', 'off', 'with', 'light', ',', 'quick', 'strides', ',', 'its', 'long', 'cloak', 'rustling', 'over', 'the', 'grass', '.', 'With', 'a', 'second', 'and', 'louder', 'pop', ',', 'another', 'hooded', 'figure', 'materialized', '.']), ('d', ['``', 'Wait', '!', \"''\"]), ('n', ['The', 'harsh', 'cry', 'startled', 'the', 'fox', ',', 'now', 'crouching', 'almost', 'flat', 'in', 'the', 'undergrowth', '.', 'It', 'leapt', 'from', 'its', 'hiding', 'place', 'and', 'up', 'the', 'bank', '.', 'There', 'was', 'a', 'flash', 'of', 'green', 'light', ',', 'a', 'yelp', ',', 'and', 'the', 'fox', 'fell', 'back', 'to', 'the', 'ground', ',', 'dead', '.', 'The', 'second', 'figure', 'turned', 'over', 'the', 'animal', 'with', 'its', 'toe', '.']), ('d', ['``', 'Just', 'a', 'fox', ',', \"''\"]), ('n', ['said', 'a', 'woman', \"'s\", 'voice', 'dismissively', 'from', 'under', 'the', 'hood', '.']), ('d', ['``', 'I', 'thought', 'perhaps', 'an', 'Auror', '--', 'Cissy', ',', 'wait', '!', \"''\"]), ('n', ['But', 'her', 'quarry', ',', 'who', 'had', 'paused', 'and', 'looked', 'back', 'at', 'the', 'flash', 'of', 'light', ',', 'was', 'already', 'scrambling', 'up', 'the', 'bank', 'the', 'fox', 'had', 'just', 'fallen', 'down', '.']), ('d', ['``', 'Cissy', '--', 'Narcissa', '--', 'listen', 'to', 'me', '--', \"''\"]), ('n', ['The', 'second', 'woman', 'caught', 'the', 'first', 'and', 'seized', 'her', 'arm', ',', 'but', 'the', 'other', 'wrenched', 'it', 'away', '.']), ('d', ['``', 'Go', 'back', ',', 'Bella', '!', \"''\"]), ('n', []), ('d', ['``', 'You', 'must', 'listen', 'to', 'me', '!', \"''\"]), ('n', []), ('d', ['``', 'I', \"'ve\", 'listened', 'already', '.', 'I', \"'ve\", 'made', 'my', 'decision', '.', 'Leave', 'me', 'alone', '!', \"''\"]), ('n', ['The', 'woman', 'named', 'Narcissa', 'gained', 'the', 'top', 'of', 'the', 'bank', ',', 'where', 'a', 'line', 'of', 'old', 'railings', 'separated', 'the', 'river', 'from', 'a', 'narrow', ',', 'cobbled', 'street', '.', 'The', 'other', 'woman', ',', 'Bella', ',', 'followed', 'at', 'once', '.', 'Side', 'by', 'side', 'they', 'stood', 'looking', 'across', 'the', 'road', 'at', 'the', 'rows', 'and', 'rows', 'of', 'dilapidated', 'brick', 'houses', ',', 'their', 'windows', 'dull', 'and', 'blind', 'in', 'the', 'darkness', '.']), ('d', ['``', 'He', 'lives', 'here', '?', \"''\"]), ('n', ['asked', 'Bella', 'in', 'a', 'voice', 'of', 'contempt', '.']), ('d', ['``', 'Here', '?', 'In', 'this', 'Muggle', 'dunghill', '?', 'We', 'must', 'be', 'the', 'first', 'of', 'our', 'kind', 'ever', 'to', 'set', 'foot', '--', \"''\"]), ('n', ['But', 'Narcissa', 'was', 'not', 'listening', ';', 'she', 'had', 'slipped', 'through', 'a', 'gap', 'in', 'the', 'rusty', 'railings', 'and', 'was', 'already', 'hurrying', 'across', 'the', 'road', '.']), ('d', ['``', 'Cissy', ',', 'waitl', \"''\"]), ('n', ['Bella', 'followed', ',', 'her', 'cloak', 'streaming', 'behind', ',', 'and', 'saw', 'Narcissa', 'darting', 'through', 'an', 'alley', 'between', 'the', 'houses', 'into', 'a', 'second', ',', 'almost', 'identical', 'street', '.', 'Some', 'of', 'the', 'streetlamps', 'were', 'broken', ';', 'the', 'two', 'women', 'were', 'running', 'between', 'patches', 'of', 'light', 'and', 'deep', 'darkness', '.', 'The', 'pursuer', 'caught', 'up', 'with', 'her', 'prey', 'just', 'as', 'she', 'turned', 'another', 'corner', ',', 'this', 'time', 'succeeding', 'in', 'catching', 'hold', 'of', 'her', 'arm', 'and', 'swinging', 'her', 'around', 'so', 'that', 'they', 'faced', 'each', 'other', '.']), ('d', ['``', 'Cissy', ',', 'you', 'must', 'not', 'do', 'this', ',', 'you', 'ca', \"n't\", 'trust', 'him', '--', \"''\"]), ('n', [\"''\", 'The', 'Dark', 'Lord', 'trusts', 'him', ',', 'does', \"n't\", 'he', '?', \"''\"]), ('d', ['``', 'The', 'Dark', 'Lord', 'is', '...', 'I', 'believe', '...', 'mistaken', ',', \"''\"]), ('n', ['Bella', 'panted', ',', 'and', 'her', 'eyes', 'gleamed', 'momentarily', 'under', 'her', 'hood', 'as', 'she', 'looked', 'around', 'to', 'check', 'that', 'they', 'were', 'indeed', 'alone', '.']), ('d', ['``', 'In', 'any', 'case', ',', 'we', 'were', 'told', 'not', 'to', 'speak', 'of', 'the', 'plan', 'to', 'anyone', '.', 'This', 'is', 'a', 'betrayal', 'of', 'the', 'Dark', 'Lord', \"'s\", '--', \"''\"]), ('n', [\"''\", 'Let', 'go', ',', 'Bella', '!', \"''\", 'snarled', 'Narcissa', ',', 'and', 'she', 'drew', 'a', 'wand', 'from', 'beneath', 'her', 'cloak', ',', 'holding', 'it', 'threateningly', 'in', 'the', 'other', \"'s\", 'face', '.', 'Bella', 'merely', 'laughed', '.']), ('d', ['``', 'Cissy', ',', 'your', 'own', 'sister', '?', 'You', 'would', \"n't\", '--', \"''\"])]\n"
     ]
    }
   ],
   "source": [
    "parsed = parse_text(tokenized)\n",
    "print(parsed[:300])"
   ]
  },
  {
   "cell_type": "markdown",
   "metadata": {},
   "source": [
    "#### Step 2: Look at the text at the word and sentence level\n",
    "\n",
    "While this function brings the text into the program, we need to be able to look at it at the *sentence* level - this will help us identify dialog vs. narration - and at the *word* level to flag when sexist terms are used.\n",
    "\n",
    "This next function will break our big long string of text from `read_file` into a list of sentences, then break that into a list of words and punctuation with an NLTK functions called `sent_tokenize` and `word_tokenize`.\n",
    "\n",
    "First, we will import the parts of NLTK we need, then write the function, called `split_text`."
   ]
  },
  {
   "cell_type": "code",
   "execution_count": null,
   "metadata": {},
   "outputs": [],
   "source": [
    "from nltk import sent_tokenize, word_tokenize\n",
    "\n",
    "def split_text(textfile):\n",
    "    # using the sent_tokenize function will break our text into a list of strings\n",
    "    # the function splits on white space and punctuation\n",
    "    s_tokens = sent_tokenize(textfile)\n",
    "    \n",
    "    # turn each sentence into a list of word tokens with a list comprehension\n",
    "    tokenized = [word_tokenize(s) for s in s_tokens]\n",
    "    return tokenized\n",
    "\n",
    "# def tokenize(textfile)"
   ]
  },
  {
   "cell_type": "markdown",
   "metadata": {},
   "source": [
    "The `split_text` function returns a list that includes the entire text of a book, which has a list inside it for every sentence, made up of each individual word or punctuation mark.  For the first few sentences of *The Philosopher's Stone* the output looks like this: \n",
    "```\n",
    "[['CHAPTER', 'ONE', 'THE', 'BOY', 'WHO', 'LIVED', 'Mr.', 'and', 'Mrs.', 'Dursley', ',', 'of', 'number', 'four', ',', 'Privet', 'Drive', ',', 'were', 'proud', 'to', 'say', 'that', 'they', 'were', 'perfectly', 'normal', ',', 'thank', 'you', 'very', 'much', '.'], ['They', 'were', 'the', 'last', 'people', 'you', \"'d\", 'expect', 'to', 'be', 'involved', 'in', 'anything', 'strange', 'or', 'mysterious', ',', 'because', 'they', 'just', 'did', \"n't\", 'hold', 'with', 'such', 'nonsense', '.'], ['Mr.', 'Dursley', 'was', 'the', 'director', 'of', 'a', 'firm', 'called', 'Grunnings', ',', 'which', 'made', 'drills', '.'], ['He', 'was', 'a', 'big', ',', 'beefy', 'man', 'with', 'hardly', 'any', 'neck', ',', 'although', 'he', 'did', 'have', 'a', 'very', 'large', 'mustache', '.'], ['Mrs.', 'Dursley', 'was', 'thin', 'and', 'blonde', 'and', 'had', 'nearly', 'twice', 'the', 'usual', 'amount', 'of', 'neck', ',', 'which', 'came', 'in', 'very', 'useful', 'as', 'she', 'spent', 'so', 'much', 'of', 'her', 'time', 'craning', 'over', 'garden', 'fences', ',', 'spying', 'on', 'the', 'neighbors', '.']]\n",
    "```"
   ]
  },
  {
   "cell_type": "markdown",
   "metadata": {},
   "source": [
    "#### Step 3: Distinguish parts of speech, like nouns, verbs, and adjectives\n",
    "Now that the text is broken into words, we can use NLTK's classification function to categorize words by the part of speech they represent.\n",
    "\n",
    "The `pos_tag` function of NLTK that we'll use to do this takes in a word as a string and returns a tuple of the word and a code for how it was classified.  So \"Harry\" in the sentence \"Harry is Petunia's nephew.\" would come back as `('Harry', 'NNP')`.  \n",
    "\n",
    "We will import the `pos_tag` function from NLTK and tag the words in a new function called `tagged_text`."
   ]
  },
  {
   "cell_type": "code",
   "execution_count": null,
   "metadata": {},
   "outputs": [],
   "source": [
    "from nltk import pos_tag\n",
    "\n",
    "def tagged_text(tokenized):\n",
    "    tagged = [pos_tag(word) for word in tokenized]\n",
    "    return tagged"
   ]
  },
  {
   "cell_type": "markdown",
   "metadata": {},
   "source": [
    "If we call `tagged_text` on that same passage from *The Philosopher's Stone*, this is the output for the first few sentences - the same passage that we saw in Step 2.\n",
    "~~~~ \n",
    "[[('CHAPTER', 'NN'), ('ONE', 'CD'), ('THE', 'NNP'), ('BOY', 'NNP'), ('WHO', 'NNP'), ('LIVED', 'NNP'), ('Mr.', 'NNP'), ('and', 'CC'), ('Mrs.', 'NNP'), ('Dursley', 'NNP'), (',', ','), ('of', 'IN'), ('number', 'NN'), ('four', 'CD'), (',', ','), ('Privet', 'NNP'), ('Drive', 'NNP'), (',', ','), ('were', 'VBD'), ('proud', 'JJ'), ('to', 'TO'), ('say', 'VB'), ('that', 'IN'), ('they', 'PRP'), ('were', 'VBD'), ('perfectly', 'RB'), ('normal', 'JJ'), (',', ','), ('thank', 'NN'), ('you', 'PRP'), ('very', 'RB'), ('much', 'RB'), ('.', '.')], [('They', 'PRP'), ('were', 'VBD'), ('the', 'DT'), ('last', 'JJ'), ('people', 'NNS'), ('you', 'PRP'), (\"'d\", 'MD'), ('expect', 'VB'), ('to', 'TO'), ('be', 'VB'), ('involved', 'VBN'), ('in', 'IN'), ('anything', 'NN'), ('strange', 'JJ'), ('or', 'CC'), ('mysterious', 'JJ'), (',', ','), ('because', 'IN'), ('they', 'PRP'), ('just', 'RB'), ('did', 'VBD'), (\"n't\", 'RB'), ('hold', 'VB'), ('with', 'IN'), ('such', 'JJ'), ('nonsense', 'NN'), ('.', '.')], [('Mr.', 'NNP'), ('Dursley', 'NNP'), ('was', 'VBD'), ('the', 'DT'), ('director', 'NN'), ('of', 'IN'), ('a', 'DT'), ('firm', 'NN'), ('called', 'VBN'), ('Grunnings', 'NNP'), (',', ','), ('which', 'WDT'), ('made', 'VBD'), ('drills', 'NNS'), ('.', '.')], [('He', 'PRP'), ('was', 'VBD'), ('a', 'DT'), ('big', 'JJ'), (',', ','), ('beefy', 'JJ'), ('man', 'NN'), ('with', 'IN'), ('hardly', 'RB'), ('any', 'DT'), ('neck', 'NN'), (',', ','), ('although', 'IN'), ('he', 'PRP'), ('did', 'VBD'), ('have', 'VB'), ('a', 'DT'), ('very', 'RB'), ('large', 'JJ'), ('mustache', 'NN'), ('.', '.')], [('Mrs.', 'NNP'), ('Dursley', 'NNP'), ('was', 'VBD'), ('thin', 'JJ'), ('and', 'CC'), ('blonde', 'NN'), ('and', 'CC'), ('had', 'VBD'), ('nearly', 'RB'), ('twice', 'RB'), ('the', 'DT'), ('usual', 'JJ'), ('amount', 'NN'), ('of', 'IN'), ('neck', 'NN'), (',', ','), ('which', 'WDT'), ('came', 'VBD'), ('in', 'IN'), ('very', 'RB'), ('useful', 'JJ'), ('as', 'IN'), ('she', 'PRP'), ('spent', 'VBD'), ('so', 'RB'), ('much', 'JJ'), ('of', 'IN'), ('her', 'PRP'), ('time', 'NN'), ('craning', 'NN'), ('over', 'IN'), ('garden', 'NN'), ('fences', 'NNS'), (',', ','), ('spying', 'VBG'), ('on', 'IN'), ('the', 'DT'), ('neighbors', 'NNS'), ('.', '.')]]\n",
    "~~~~ \n",
    "\n",
    "Each of the tags - the second values in the tuple for the words - represent a part of speech.  For example, 'NNP' means the word has been tagged by NLTK as a proper noun, 'VB' means the word has been tagged as a verb.  You can find a full list [here](https://pythonprogramming.net/natural-language-toolkit-nltk-part-speech-tagging/), but in the next steps we'll be focused primarily on adjectives, verbs and nouns."
   ]
  },
  {
   "cell_type": "markdown",
   "metadata": {},
   "source": [
    "#### Step 4: Seperate dialog from narration.\n",
    "\n",
    "Recall that we want to look at how the narrator describes women seperately from the dialog - how can we do this?\n",
    "\n",
    "Fortunately, in English text and in these books, dialog is always enclosed in quotation marks.  After running the functions we've created on the text, dialog generally looks something like these snippets from the end of *The Philosopher's Stone*.\n",
    "\n",
    "~~~~\n",
    "[('``', '``'), ('Thanks', 'NNS'), (',', ','), (\"''\", \"''\"), ('said', 'VBD'), ('Harry', 'NNP'), (',', ','), ('``', '``'), ('I', 'PRP'), (\"'ll\", 'MD'), ('need', 'VB'), ('something', 'NN'), ('to', 'TO'), ('look', 'VB'), ('forward', 'RB'), ('to', 'TO'), ('.', '.'), (\"''\", \"''\")]\n",
    "\n",
    "[('``', '``'), ('There', 'EX'), ('he', 'PRP'), ('is', 'VBZ'), (',', ','), ('Mom', 'NNP'), (',', ','), ('there', 'EX'), ('he', 'PRP'), ('is', 'VBZ'), (',', ','), ('look', 'NN'), ('!', '.'), (\"''\", \"''\")]\n",
    "~~~~\n",
    "\n",
    "Also, notice that in my text, the beginning quotes look slanted, like this `('``', '``')` and ending quotes look straight, like this `(\"''\", \"''\")`.  We can use this information to distinguish the beginning and end of a piece of dialog.\n",
    "\n",
    "Next, we'll create a function called `seperate_narration_dialogue` that will take our big list of lists of tagged words in and pull all of the dialog out, so we are left with a list of narration that we can analyze.  "
   ]
  },
  {
   "cell_type": "code",
   "execution_count": null,
   "metadata": {},
   "outputs": [],
   "source": [
    "textfile = read_file(6)\n",
    "tokenized = split_text(textfile)\n"
   ]
  },
  {
   "cell_type": "code",
   "execution_count": null,
   "metadata": {},
   "outputs": [],
   "source": [
    "print(tokenized[:25])"
   ]
  },
  {
   "cell_type": "markdown",
   "metadata": {},
   "source": [
    "Parsing out the dialog from narration is tricky.  There are five cases to consider.\n",
    "\n",
    "###### Case 1: The entire sentence is a quote\n",
    "Example: `\"But I really was rather hoping to speak--\"`\n",
    "Solution: Check that the first character is an open quote and the last character is a closed quote.  If this is true, the entire sentence is counted as dialog.\n",
    "\n",
    "###### Case 2: The sentence contains a quote and some narration\n",
    "Example: `\"Hello?\" he said, trying to sound braver than he felt.`\n",
    "Solution: If there are equal numbers of open and close qu"
   ]
  },
  {
   "cell_type": "code",
   "execution_count": null,
   "metadata": {},
   "outputs": [],
   "source": [
    "def seperate_narration_dialog(tagged):\n",
    "    narration_only = []\n",
    "    dialog_only = []\n",
    "    i = 0\n",
    "    open_quotes = ('``', '``')\n",
    "    alt_open_quotes = (\"''\", \"''\")\n",
    "    close_quotes = (\"''\", \"''\")\n",
    "    print(\"length\", len(tagged))\n",
    "    # iterate through the list of sentences \n",
    "    while i < 40:\n",
    "        sent = tagged[i]\n",
    "        \n",
    "        # make lists of where we see open and close quotes in the sentence\n",
    "        open_quote_indices = [o for o, x in enumerate(sent) if x == open_quotes]  #[0, 10]\n",
    "        close_quote_indices = [c for c, y in enumerate(sent) if y == close_quotes]\n",
    "        \n",
    "        # case 1: There is dialog that covers more than one sentence\n",
    "        if len(open_quote_indices) > len(close_quote_indices):\n",
    "            search_closed = False\n",
    "            j = 1\n",
    "            quote = []\n",
    "            quote.extend(sent)\n",
    "            \n",
    "            while search_closed == False:\n",
    "                current = tagged[i+j]\n",
    "               \n",
    "                if close_quotes in current:\n",
    "                    narration = current\n",
    "                    quote.extend(tagged[i + j])\n",
    "                    search_closed = True\n",
    "\n",
    "                else:\n",
    "                    quote.extend(tagged[i + j])\n",
    "                    j += 1\n",
    "\n",
    "            i = i + j + 1\n",
    "            dialog_only.append(quote)\n",
    "            print('q1', quote)\n",
    "            \n",
    "        # case 2: There is dialog that is captured in one sentence\n",
    "        if len(open_quote_indices) == len(close_quote_indices) and len(open_quote_indices) > 1:\n",
    "            quotes = [sent[open_quote_indices[i]:close_quote_indices[i]] for i in range(len(sent)+1)]\n",
    "            print(\"q\", quotes)\n",
    "            print(\"*****\")\n",
    "            dialog_only.append(quotes)\n",
    "            narration = [w for w in sent if w not in quotes]\n",
    "            narration_only.append(narration)\n",
    "\n",
    "        # case 2: there is no dialog in the sentence\n",
    "        else:\n",
    "            narration_only.append(sent)\n",
    "            i += 1\n",
    "\n",
    "        \n",
    "    return (narration_only, dialog_only)"
   ]
  },
  {
   "cell_type": "markdown",
   "metadata": {},
   "source": [
    "When we run `seperate_narration_dialog`, we'll get output a list of positions of the opening quotes in a sentence.  \n",
    "\n",
    "If there's just one value, like `[0]`, there is just one opening quote, like in this sentence:\n",
    "~~~~\n",
    "``Ah...Prime Minister,\" said Cornelius Fudge, striding forward with his hand outstretched.\n",
    "~~~~\n",
    "\n",
    "However, if we get two values, like `[0, 22]`, it means there are two opening quotes in the sentence, like this one:\n",
    "~~~~\n",
    "``But,\" said the Prime Minister breathlessly, watching his teacup chewing on the corner of his next speech, ``but why -- why has nobody told me --?\"\n",
    "~~~~\n",
    "\n",
    "And so on.\n",
    "\n",
    "Then we want to match these open quotes to closed quotes, seeing if the numbers are equal.\n",
    "\n",
    "[('Fudge', 'NNP'), ('took', 'VBD'), ('a', 'DT'), ('great', 'JJ'), (',', ','), ('deep', 'JJ'), ('breath', 'NN'), ('and', 'CC'), ('said', 'VBD'), (',', ','), ('``', '``'), ('Prime', 'NNP'), ('Minister', 'NNP'), (',', ','), ('I', 'PRP'), ('am', 'VBP'), ('very', 'RB'), ('sorry', 'JJ'), ('to', 'TO'), ('have', 'VB'), ('to', 'TO'), ('tell', 'VB'), ('you', 'PRP'), ('that', 'IN'), ('he', 'PRP'), (\"'s\", 'VBZ'), ('back', 'RB'), ('.', '.')] [('He-Who-Must-Not-Be-Named', 'NNP'), ('is', 'VBZ'), ('back', 'RB'), ('.', '.'), (\"''\", \"''\")] [10] []"
   ]
  },
  {
   "cell_type": "code",
   "execution_count": null,
   "metadata": {},
   "outputs": [],
   "source": [
    "narration_only, dialog_only = seperate_narration_dialog(tagged)\n",
    "print(\"dialog\", dialog_only)"
   ]
  },
  {
   "cell_type": "markdown",
   "metadata": {},
   "source": [
    "#### Sexist language\n",
    "Since sexism in language is sometimes very subtle, a challenge for this project is identifying what words or combinations of words and their context should be considered biased.\n",
    "\n",
    "After some searching, I found a couple of excellent lists.  Because the Harry Potter series is written in English by a British writer, I focused on sources from the UK and countries in the Commonwealth.  Using this blog post by a [New Zealand blogger](http://sacraparental.com/2016/05/14/everyday-misogyny-122-subtly-sexist-words-women/) I had a first set of words and some excellent categories to begin with.  I found a number of [other](http://time.com/4268325/history-calling-women-shrill/) excellent articles about sexism in language, which I used to add to the `sexist_words` Python dictionary below."
   ]
  },
  {
   "cell_type": "code",
   "execution_count": null,
   "metadata": {},
   "outputs": [],
   "source": []
  },
  {
   "cell_type": "code",
   "execution_count": null,
   "metadata": {},
   "outputs": [],
   "source": [
    "sexist_words ={ \n",
    "    'assertiveness': ['bossy', 'abrasive', 'ball-buster', 'aggressive', 'shrill', 'bolshy', 'intense', 'stroppy', 'forward', 'mannish', 'strident', 'know-it-all'],\n",
    "    'behavior' : ['cackle', 'shriek', 'caterwaul', 'yowl', 'screech','gossip', 'dramatic', 'catty', 'bitch', 'nag', 'cold', 'icy', 'shrew', 'humorless', 'man-hater', 'banshee', 'fishwife', 'lippy', 'ditzy', 'diva', 'prima donna', 'feisty', 'ladylike', 'bubbly', 'vivaious', 'flirt', 'sass', 'chatty', 'demure', 'modest', 'emotional', 'hysterical', 'hormonal', 'menstrual', 'flaky', 'moody', 'over-sensitive'],\n",
    "    'sexuality': ['slut', 'trollop', 'frigid', 'easy', 'tease', 'loose', 'man-eater', 'prude', 'curvy', 'cheap', 'frumpy', 'faded', 'mousey', 'clotheshorse', 'cow', 'hag'],\n",
    "    'relationship': ['spinster', 'barren', 'housewife', 'houseproud', 'soccer mom', 'mistress', 'kept woman'],\n",
    "    'praise': ['caring', 'compassionate', 'hard-working', 'conscientious', 'dependable', 'diligent', 'dedicated', 'tactful', 'interpersonal', 'warm', 'helpful'],\n",
    "}"
   ]
  },
  {
   "cell_type": "markdown",
   "metadata": {},
   "source": [
    "#### Step 3: Parsing the text\n"
   ]
  },
  {
   "cell_type": "code",
   "execution_count": null,
   "metadata": {},
   "outputs": [],
   "source": []
  }
 ],
 "metadata": {
  "kernelspec": {
   "display_name": "Python 3",
   "language": "python",
   "name": "python3"
  },
  "language_info": {
   "codemirror_mode": {
    "name": "ipython",
    "version": 3
   },
   "file_extension": ".py",
   "mimetype": "text/x-python",
   "name": "python",
   "nbconvert_exporter": "python",
   "pygments_lexer": "ipython3",
   "version": "3.6.2"
  }
 },
 "nbformat": 4,
 "nbformat_minor": 2
}
